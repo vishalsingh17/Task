{
 "cells": [
  {
   "cell_type": "code",
   "execution_count": 1,
   "id": "5f2fb4cb",
   "metadata": {},
   "outputs": [
    {
     "name": "stderr",
     "output_type": "stream",
     "text": [
      "\n",
      "Bad key \"text.kerning_factor\" on line 4 in\n",
      "C:\\Users\\Dell\\anaconda3\\lib\\site-packages\\matplotlib\\mpl-data\\stylelib\\_classic_test_patch.mplstyle.\n",
      "You probably need to get an updated matplotlibrc file from\n",
      "https://github.com/matplotlib/matplotlib/blob/v3.1.2/matplotlibrc.template\n",
      "or from the matplotlib source distribution\n"
     ]
    }
   ],
   "source": [
    "import numpy as np \n",
    "import pandas as pd\n",
    "import seaborn as sns\n",
    "import matplotlib.pyplot as plt\n",
    "import scipy.stats as stats\n",
    "\n",
    "from sklearn.preprocessing import StandardScaler\n",
    "from sklearn.model_selection import train_test_split\n",
    "from sklearn.model_selection import GridSearchCV\n",
    "\n",
    "from sklearn.linear_model import LogisticRegression\n",
    "from sklearn.svm import SVC\n",
    "from sklearn.neighbors import KNeighborsClassifier\n",
    "from sklearn.tree import DecisionTreeClassifier\n",
    "from sklearn.ensemble import RandomForestClassifier,AdaBoostClassifier,GradientBoostingClassifier\n",
    "\n",
    "from sklearn.metrics import SCORERS\n",
    "from sklearn.metrics import plot_confusion_matrix,plot_roc_curve,classification_report,accuracy_score,confusion_matrix,f1_score,precision_score,recall_score"
   ]
  },
  {
   "cell_type": "code",
   "execution_count": 2,
   "id": "213c9c06",
   "metadata": {},
   "outputs": [],
   "source": [
    "df = pd.read_csv('Converted_data_set')\n",
    "X = df.drop('target',axis=1)\n",
    "y = df['target']"
   ]
  },
  {
   "cell_type": "markdown",
   "id": "28528a3b",
   "metadata": {},
   "source": [
    "# Train Test validate Split"
   ]
  },
  {
   "cell_type": "code",
   "execution_count": 3,
   "id": "1078ba95",
   "metadata": {},
   "outputs": [],
   "source": [
    "X_train, X_test, y_train, y_test = train_test_split(X, y, test_size=0.30, random_state=101)"
   ]
  },
  {
   "cell_type": "code",
   "execution_count": 4,
   "id": "4a5d0350",
   "metadata": {},
   "outputs": [],
   "source": [
    "X_test,X_validate,y_test,y_validate = train_test_split(X_test, y_test, test_size=0.50, random_state=42)"
   ]
  },
  {
   "cell_type": "markdown",
   "id": "a154c1b7",
   "metadata": {},
   "source": [
    "# Saving the splitted dataset"
   ]
  },
  {
   "cell_type": "code",
   "execution_count": 5,
   "id": "ebe2e7e8",
   "metadata": {},
   "outputs": [
    {
     "name": "stderr",
     "output_type": "stream",
     "text": [
      "C:\\Users\\Dell\\anaconda3\\lib\\site-packages\\ipykernel_launcher.py:4: FutureWarning: The signature of `Series.to_csv` was aligned to that of `DataFrame.to_csv`, and argument 'header' will change its default value from False to True: please pass an explicit value to suppress this warning.\n",
      "  after removing the cwd from sys.path.\n",
      "C:\\Users\\Dell\\anaconda3\\lib\\site-packages\\ipykernel_launcher.py:5: FutureWarning: The signature of `Series.to_csv` was aligned to that of `DataFrame.to_csv`, and argument 'header' will change its default value from False to True: please pass an explicit value to suppress this warning.\n",
      "  \"\"\"\n",
      "C:\\Users\\Dell\\anaconda3\\lib\\site-packages\\ipykernel_launcher.py:6: FutureWarning: The signature of `Series.to_csv` was aligned to that of `DataFrame.to_csv`, and argument 'header' will change its default value from False to True: please pass an explicit value to suppress this warning.\n",
      "  \n"
     ]
    }
   ],
   "source": [
    "X_train.to_csv(\"X_train.csv\")\n",
    "X_test.to_csv(\"X_test.csv\")\n",
    "X_validate.to_csv(\"X_validate.csv\")\n",
    "y_train.to_csv(\"y_train.csv\")\n",
    "y_test.to_csv(\"y_test.csv\")\n",
    "y_validate.to_csv(\"y_validate.csv\")"
   ]
  },
  {
   "cell_type": "markdown",
   "id": "2284b755",
   "metadata": {},
   "source": [
    "# Scaling"
   ]
  },
  {
   "cell_type": "code",
   "execution_count": 10,
   "id": "250e9aa0",
   "metadata": {},
   "outputs": [],
   "source": [
    "scaler = StandardScaler()\n",
    "\n",
    "X_train_scaled = scaler.fit_transform(X_train)\n",
    "X_test_scaled = scaler.transform(X_test)\n",
    "#X_validate_scaled = scaler.transform(X_validate)"
   ]
  },
  {
   "cell_type": "markdown",
   "id": "835aa81a",
   "metadata": {},
   "source": [
    "# Model Training"
   ]
  },
  {
   "cell_type": "code",
   "execution_count": 11,
   "id": "239a7f16",
   "metadata": {},
   "outputs": [],
   "source": [
    "def trainModel(model,X_train,X_test,y_train,y_test):\n",
    "    \n",
    "    model.fit(X_train,y_train)\n",
    "    y_pred = model.predict(X_test)\n",
    "    \n",
    "    print(classification_report(y_test,y_pred))\n",
    "    print(plot_confusion_matrix(model,X_test,y_test))\n",
    "    print(plot_roc_curve(model,X_test,y_test))"
   ]
  },
  {
   "cell_type": "code",
   "execution_count": 12,
   "id": "a3b61f99",
   "metadata": {},
   "outputs": [],
   "source": [
    "def trainModelGrid(model,X_train,X_test,y_train,y_test):\n",
    "    \n",
    "    model.fit(X_train,y_train)\n",
    "    y_pred = model.predict(X_test)\n",
    "    print(model.best_params_)\n",
    "    print(classification_report(y_test,y_pred))\n",
    "    print(plot_confusion_matrix(model,X_test,y_test))"
   ]
  },
  {
   "cell_type": "markdown",
   "id": "64090e87",
   "metadata": {},
   "source": [
    "### Logistic Regression"
   ]
  },
  {
   "cell_type": "code",
   "execution_count": 13,
   "id": "8b0b2e73",
   "metadata": {},
   "outputs": [
    {
     "name": "stdout",
     "output_type": "stream",
     "text": [
      "              precision    recall  f1-score   support\n",
      "\n",
      "           0       0.87      0.86      0.87        72\n",
      "           1       0.88      0.89      0.88        82\n",
      "\n",
      "    accuracy                           0.88       154\n",
      "   macro avg       0.88      0.88      0.88       154\n",
      "weighted avg       0.88      0.88      0.88       154\n",
      "\n",
      "<sklearn.metrics._plot.confusion_matrix.ConfusionMatrixDisplay object at 0x000002B336C41100>\n",
      "<sklearn.metrics._plot.roc_curve.RocCurveDisplay object at 0x000002B336897760>\n"
     ]
    },
    {
     "data": {
      "image/png": "[encoded data removed]",
      "text/plain": [
       "<Figure size 432x288 with 2 Axes>"
      ]
     },
     "metadata": {
      "needs_background": "light"
     },
     "output_type": "display_data"
    },
    {
     "data": {
      "image/png": "[encoded data removed]",
      "text/plain": [
       "<Figure size 432x288 with 1 Axes>"
      ]
     },
     "metadata": {
      "needs_background": "light"
     },
     "output_type": "display_data"
    }
   ],
   "source": [
    "model = LogisticRegression()\n",
    "trainModel(model,X_train_scaled,X_test_scaled,y_train,y_test)"
   ]
  },
  {
   "cell_type": "code",
   "execution_count": 14,
   "id": "7cbbf48c",
   "metadata": {},
   "outputs": [
    {
     "name": "stdout",
     "output_type": "stream",
     "text": [
      "              precision    recall  f1-score   support\n",
      "\n",
      "           0       0.92      0.85      0.88        72\n",
      "           1       0.88      0.94      0.91        82\n",
      "\n",
      "    accuracy                           0.90       154\n",
      "   macro avg       0.90      0.89      0.89       154\n",
      "weighted avg       0.90      0.90      0.90       154\n",
      "\n",
      "[[61 11]\n",
      " [ 5 77]]\n"
     ]
    }
   ],
   "source": [
    "# Because In this I can accept more +ve than false -negative\n",
    "model = LogisticRegression()\n",
    "model.fit(X_train_scaled,y_train)\n",
    "prob = model.predict_proba(X_test_scaled)[:,1]\n",
    "y_pred = np.where(prob >=0.4,1,0) # Choosing custom thresold\n",
    "print(classification_report(y_test,y_pred))\n",
    "print(confusion_matrix(y_test,y_pred))"
   ]
  },
  {
   "cell_type": "markdown",
   "id": "91a8020c",
   "metadata": {},
   "source": [
    "### SVC"
   ]
  },
  {
   "cell_type": "code",
   "execution_count": 15,
   "id": "7a5aadff",
   "metadata": {},
   "outputs": [
    {
     "name": "stdout",
     "output_type": "stream",
     "text": [
      "              precision    recall  f1-score   support\n",
      "\n",
      "           0       0.94      0.89      0.91        72\n",
      "           1       0.91      0.95      0.93        82\n",
      "\n",
      "    accuracy                           0.92       154\n",
      "   macro avg       0.92      0.92      0.92       154\n",
      "weighted avg       0.92      0.92      0.92       154\n",
      "\n",
      "<sklearn.metrics._plot.confusion_matrix.ConfusionMatrixDisplay object at 0x000002B33C76DAC0>\n",
      "<sklearn.metrics._plot.roc_curve.RocCurveDisplay object at 0x000002B33C883F40>\n"
     ]
    },
    {
     "data": {
      "image/png": "[encoded data removed]",
      "text/plain": [
       "<Figure size 432x288 with 2 Axes>"
      ]
     },
     "metadata": {
      "needs_background": "light"
     },
     "output_type": "display_data"
    },
    {
     "data": {
      "image/png": "[encoded data removed]",
      "text/plain": [
       "<Figure size 432x288 with 1 Axes>"
      ]
     },
     "metadata": {
      "needs_background": "light"
     },
     "output_type": "display_data"
    }
   ],
   "source": [
    "model = SVC()\n",
    "trainModel(model,X_train_scaled,X_test_scaled,y_train,y_test)"
   ]
  },
  {
   "cell_type": "code",
   "execution_count": 12,
   "id": "a3ff4b3f",
   "metadata": {},
   "outputs": [
    {
     "name": "stdout",
     "output_type": "stream",
     "text": [
      "Fitting 5 folds for each of 48 candidates, totalling 240 fits\n",
      "[CV] END ...........C=1.0, degree=3, gamma=scale, kernel=rbf; total time=   0.0s\n",
      "[CV] END ...........C=1.0, degree=3, gamma=scale, kernel=rbf; total time=   0.0s\n",
      "[CV] END ...........C=1.0, degree=3, gamma=scale, kernel=rbf; total time=   0.0s\n",
      "[CV] END ...........C=1.0, degree=3, gamma=scale, kernel=rbf; total time=   0.0s\n",
      "[CV] END ...........C=1.0, degree=3, gamma=scale, kernel=rbf; total time=   0.0s\n",
      "[CV] END ........C=1.0, degree=3, gamma=scale, kernel=linear; total time=   0.0s\n",
      "[CV] END ........C=1.0, degree=3, gamma=scale, kernel=linear; total time=   0.0s\n",
      "[CV] END ........C=1.0, degree=3, gamma=scale, kernel=linear; total time=   0.0s\n",
      "[CV] END ........C=1.0, degree=3, gamma=scale, kernel=linear; total time=   0.0s\n",
      "[CV] END ........C=1.0, degree=3, gamma=scale, kernel=linear; total time=   0.0s\n",
      "[CV] END ............C=1.0, degree=3, gamma=auto, kernel=rbf; total time=   0.0s\n",
      "[CV] END ............C=1.0, degree=3, gamma=auto, kernel=rbf; total time=   0.0s\n",
      "[CV] END ............C=1.0, degree=3, gamma=auto, kernel=rbf; total time=   0.0s\n",
      "[CV] END ............C=1.0, degree=3, gamma=auto, kernel=rbf; total time=   0.0s\n",
      "[CV] END ............C=1.0, degree=3, gamma=auto, kernel=rbf; total time=   0.0s\n",
      "[CV] END .........C=1.0, degree=3, gamma=auto, kernel=linear; total time=   0.0s\n",
      "[CV] END .........C=1.0, degree=3, gamma=auto, kernel=linear; total time=   0.0s\n",
      "[CV] END .........C=1.0, degree=3, gamma=auto, kernel=linear; total time=   0.0s\n",
      "[CV] END .........C=1.0, degree=3, gamma=auto, kernel=linear; total time=   0.0s\n",
      "[CV] END .........C=1.0, degree=3, gamma=auto, kernel=linear; total time=   0.0s\n",
      "[CV] END ...........C=1.0, degree=4, gamma=scale, kernel=rbf; total time=   0.0s\n",
      "[CV] END ...........C=1.0, degree=4, gamma=scale, kernel=rbf; total time=   0.0s\n",
      "[CV] END ...........C=1.0, degree=4, gamma=scale, kernel=rbf; total time=   0.0s\n",
      "[CV] END ...........C=1.0, degree=4, gamma=scale, kernel=rbf; total time=   0.0s\n",
      "[CV] END ...........C=1.0, degree=4, gamma=scale, kernel=rbf; total time=   0.0s\n",
      "[CV] END ........C=1.0, degree=4, gamma=scale, kernel=linear; total time=   0.0s\n",
      "[CV] END ........C=1.0, degree=4, gamma=scale, kernel=linear; total time=   0.0s\n",
      "[CV] END ........C=1.0, degree=4, gamma=scale, kernel=linear; total time=   0.0s\n",
      "[CV] END ........C=1.0, degree=4, gamma=scale, kernel=linear; total time=   0.0s\n",
      "[CV] END ........C=1.0, degree=4, gamma=scale, kernel=linear; total time=   0.0s\n",
      "[CV] END ............C=1.0, degree=4, gamma=auto, kernel=rbf; total time=   0.0s\n",
      "[CV] END ............C=1.0, degree=4, gamma=auto, kernel=rbf; total time=   0.0s\n",
      "[CV] END ............C=1.0, degree=4, gamma=auto, kernel=rbf; total time=   0.0s\n",
      "[CV] END ............C=1.0, degree=4, gamma=auto, kernel=rbf; total time=   0.0s\n",
      "[CV] END ............C=1.0, degree=4, gamma=auto, kernel=rbf; total time=   0.0s\n",
      "[CV] END .........C=1.0, degree=4, gamma=auto, kernel=linear; total time=   0.0s\n",
      "[CV] END .........C=1.0, degree=4, gamma=auto, kernel=linear; total time=   0.0s\n",
      "[CV] END .........C=1.0, degree=4, gamma=auto, kernel=linear; total time=   0.0s\n",
      "[CV] END .........C=1.0, degree=4, gamma=auto, kernel=linear; total time=   0.0s\n",
      "[CV] END .........C=1.0, degree=4, gamma=auto, kernel=linear; total time=   0.0s\n",
      "[CV] END .............C=2, degree=3, gamma=scale, kernel=rbf; total time=   0.0s\n",
      "[CV] END .............C=2, degree=3, gamma=scale, kernel=rbf; total time=   0.0s\n",
      "[CV] END .............C=2, degree=3, gamma=scale, kernel=rbf; total time=   0.0s\n",
      "[CV] END .............C=2, degree=3, gamma=scale, kernel=rbf; total time=   0.0s\n",
      "[CV] END .............C=2, degree=3, gamma=scale, kernel=rbf; total time=   0.0s\n",
      "[CV] END ..........C=2, degree=3, gamma=scale, kernel=linear; total time=   0.0s\n",
      "[CV] END ..........C=2, degree=3, gamma=scale, kernel=linear; total time=   0.0s\n",
      "[CV] END ..........C=2, degree=3, gamma=scale, kernel=linear; total time=   0.0s\n",
      "[CV] END ..........C=2, degree=3, gamma=scale, kernel=linear; total time=   0.0s\n",
      "[CV] END ..........C=2, degree=3, gamma=scale, kernel=linear; total time=   0.0s\n",
      "[CV] END ..............C=2, degree=3, gamma=auto, kernel=rbf; total time=   0.0s\n",
      "[CV] END ..............C=2, degree=3, gamma=auto, kernel=rbf; total time=   0.0s\n",
      "[CV] END ..............C=2, degree=3, gamma=auto, kernel=rbf; total time=   0.0s\n",
      "[CV] END ..............C=2, degree=3, gamma=auto, kernel=rbf; total time=   0.0s\n",
      "[CV] END ..............C=2, degree=3, gamma=auto, kernel=rbf; total time=   0.0s\n",
      "[CV] END ...........C=2, degree=3, gamma=auto, kernel=linear; total time=   0.0s\n",
      "[CV] END ...........C=2, degree=3, gamma=auto, kernel=linear; total time=   0.0s\n",
      "[CV] END ...........C=2, degree=3, gamma=auto, kernel=linear; total time=   0.0s\n",
      "[CV] END ...........C=2, degree=3, gamma=auto, kernel=linear; total time=   0.0s\n",
      "[CV] END ...........C=2, degree=3, gamma=auto, kernel=linear; total time=   0.0s\n",
      "[CV] END .............C=2, degree=4, gamma=scale, kernel=rbf; total time=   0.0s\n",
      "[CV] END .............C=2, degree=4, gamma=scale, kernel=rbf; total time=   0.0s\n",
      "[CV] END .............C=2, degree=4, gamma=scale, kernel=rbf; total time=   0.0s\n",
      "[CV] END .............C=2, degree=4, gamma=scale, kernel=rbf; total time=   0.0s\n",
      "[CV] END .............C=2, degree=4, gamma=scale, kernel=rbf; total time=   0.0s\n",
      "[CV] END ..........C=2, degree=4, gamma=scale, kernel=linear; total time=   0.0s\n",
      "[CV] END ..........C=2, degree=4, gamma=scale, kernel=linear; total time=   0.0s\n",
      "[CV] END ..........C=2, degree=4, gamma=scale, kernel=linear; total time=   0.0s\n",
      "[CV] END ..........C=2, degree=4, gamma=scale, kernel=linear; total time=   0.0s\n",
      "[CV] END ..........C=2, degree=4, gamma=scale, kernel=linear; total time=   0.0s\n",
      "[CV] END ..............C=2, degree=4, gamma=auto, kernel=rbf; total time=   0.0s\n",
      "[CV] END ..............C=2, degree=4, gamma=auto, kernel=rbf; total time=   0.0s\n",
      "[CV] END ..............C=2, degree=4, gamma=auto, kernel=rbf; total time=   0.0s\n",
      "[CV] END ..............C=2, degree=4, gamma=auto, kernel=rbf; total time=   0.0s\n",
      "[CV] END ..............C=2, degree=4, gamma=auto, kernel=rbf; total time=   0.0s\n",
      "[CV] END ...........C=2, degree=4, gamma=auto, kernel=linear; total time=   0.0s\n",
      "[CV] END ...........C=2, degree=4, gamma=auto, kernel=linear; total time=   0.0s\n",
      "[CV] END ...........C=2, degree=4, gamma=auto, kernel=linear; total time=   0.0s\n",
      "[CV] END ...........C=2, degree=4, gamma=auto, kernel=linear; total time=   0.0s\n",
      "[CV] END ...........C=2, degree=4, gamma=auto, kernel=linear; total time=   0.0s\n",
      "[CV] END .............C=5, degree=3, gamma=scale, kernel=rbf; total time=   0.0s\n",
      "[CV] END .............C=5, degree=3, gamma=scale, kernel=rbf; total time=   0.0s\n",
      "[CV] END .............C=5, degree=3, gamma=scale, kernel=rbf; total time=   0.0s\n",
      "[CV] END .............C=5, degree=3, gamma=scale, kernel=rbf; total time=   0.0s\n",
      "[CV] END .............C=5, degree=3, gamma=scale, kernel=rbf; total time=   0.0s\n",
      "[CV] END ..........C=5, degree=3, gamma=scale, kernel=linear; total time=   0.0s\n",
      "[CV] END ..........C=5, degree=3, gamma=scale, kernel=linear; total time=   0.0s\n",
      "[CV] END ..........C=5, degree=3, gamma=scale, kernel=linear; total time=   0.0s\n",
      "[CV] END ..........C=5, degree=3, gamma=scale, kernel=linear; total time=   0.0s\n",
      "[CV] END ..........C=5, degree=3, gamma=scale, kernel=linear; total time=   0.0s\n",
      "[CV] END ..............C=5, degree=3, gamma=auto, kernel=rbf; total time=   0.0s\n",
      "[CV] END ..............C=5, degree=3, gamma=auto, kernel=rbf; total time=   0.0s\n",
      "[CV] END ..............C=5, degree=3, gamma=auto, kernel=rbf; total time=   0.0s\n",
      "[CV] END ..............C=5, degree=3, gamma=auto, kernel=rbf; total time=   0.0s\n",
      "[CV] END ..............C=5, degree=3, gamma=auto, kernel=rbf; total time=   0.0s\n",
      "[CV] END ...........C=5, degree=3, gamma=auto, kernel=linear; total time=   0.0s\n",
      "[CV] END ...........C=5, degree=3, gamma=auto, kernel=linear; total time=   0.0s\n",
      "[CV] END ...........C=5, degree=3, gamma=auto, kernel=linear; total time=   0.0s\n",
      "[CV] END ...........C=5, degree=3, gamma=auto, kernel=linear; total time=   0.0s\n",
      "[CV] END ...........C=5, degree=3, gamma=auto, kernel=linear; total time=   0.0s\n",
      "[CV] END .............C=5, degree=4, gamma=scale, kernel=rbf; total time=   0.0s\n",
      "[CV] END .............C=5, degree=4, gamma=scale, kernel=rbf; total time=   0.0s\n"
     ]
    },
    {
     "name": "stdout",
     "output_type": "stream",
     "text": [
      "[CV] END .............C=5, degree=4, gamma=scale, kernel=rbf; total time=   0.0s\n",
      "[CV] END .............C=5, degree=4, gamma=scale, kernel=rbf; total time=   0.0s\n",
      "[CV] END .............C=5, degree=4, gamma=scale, kernel=rbf; total time=   0.0s\n",
      "[CV] END ..........C=5, degree=4, gamma=scale, kernel=linear; total time=   0.0s\n",
      "[CV] END ..........C=5, degree=4, gamma=scale, kernel=linear; total time=   0.0s\n",
      "[CV] END ..........C=5, degree=4, gamma=scale, kernel=linear; total time=   0.0s\n",
      "[CV] END ..........C=5, degree=4, gamma=scale, kernel=linear; total time=   0.0s\n",
      "[CV] END ..........C=5, degree=4, gamma=scale, kernel=linear; total time=   0.0s\n",
      "[CV] END ..............C=5, degree=4, gamma=auto, kernel=rbf; total time=   0.0s\n",
      "[CV] END ..............C=5, degree=4, gamma=auto, kernel=rbf; total time=   0.0s\n",
      "[CV] END ..............C=5, degree=4, gamma=auto, kernel=rbf; total time=   0.0s\n",
      "[CV] END ..............C=5, degree=4, gamma=auto, kernel=rbf; total time=   0.0s\n",
      "[CV] END ..............C=5, degree=4, gamma=auto, kernel=rbf; total time=   0.0s\n",
      "[CV] END ...........C=5, degree=4, gamma=auto, kernel=linear; total time=   0.0s\n",
      "[CV] END ...........C=5, degree=4, gamma=auto, kernel=linear; total time=   0.0s\n",
      "[CV] END ...........C=5, degree=4, gamma=auto, kernel=linear; total time=   0.0s\n",
      "[CV] END ...........C=5, degree=4, gamma=auto, kernel=linear; total time=   0.0s\n",
      "[CV] END ...........C=5, degree=4, gamma=auto, kernel=linear; total time=   0.0s\n",
      "[CV] END ............C=10, degree=3, gamma=scale, kernel=rbf; total time=   0.0s\n",
      "[CV] END ............C=10, degree=3, gamma=scale, kernel=rbf; total time=   0.0s\n",
      "[CV] END ............C=10, degree=3, gamma=scale, kernel=rbf; total time=   0.0s\n",
      "[CV] END ............C=10, degree=3, gamma=scale, kernel=rbf; total time=   0.0s\n",
      "[CV] END ............C=10, degree=3, gamma=scale, kernel=rbf; total time=   0.0s\n",
      "[CV] END .........C=10, degree=3, gamma=scale, kernel=linear; total time=   0.0s\n",
      "[CV] END .........C=10, degree=3, gamma=scale, kernel=linear; total time=   0.0s\n",
      "[CV] END .........C=10, degree=3, gamma=scale, kernel=linear; total time=   0.2s\n",
      "[CV] END .........C=10, degree=3, gamma=scale, kernel=linear; total time=   0.0s\n",
      "[CV] END .........C=10, degree=3, gamma=scale, kernel=linear; total time=   0.0s\n",
      "[CV] END .............C=10, degree=3, gamma=auto, kernel=rbf; total time=   0.0s\n",
      "[CV] END .............C=10, degree=3, gamma=auto, kernel=rbf; total time=   0.0s\n",
      "[CV] END .............C=10, degree=3, gamma=auto, kernel=rbf; total time=   0.0s\n",
      "[CV] END .............C=10, degree=3, gamma=auto, kernel=rbf; total time=   0.0s\n",
      "[CV] END .............C=10, degree=3, gamma=auto, kernel=rbf; total time=   0.0s\n",
      "[CV] END ..........C=10, degree=3, gamma=auto, kernel=linear; total time=   0.0s\n",
      "[CV] END ..........C=10, degree=3, gamma=auto, kernel=linear; total time=   0.0s\n",
      "[CV] END ..........C=10, degree=3, gamma=auto, kernel=linear; total time=   0.2s\n",
      "[CV] END ..........C=10, degree=3, gamma=auto, kernel=linear; total time=   0.0s\n",
      "[CV] END ..........C=10, degree=3, gamma=auto, kernel=linear; total time=   0.0s\n",
      "[CV] END ............C=10, degree=4, gamma=scale, kernel=rbf; total time=   0.0s\n",
      "[CV] END ............C=10, degree=4, gamma=scale, kernel=rbf; total time=   0.0s\n",
      "[CV] END ............C=10, degree=4, gamma=scale, kernel=rbf; total time=   0.0s\n",
      "[CV] END ............C=10, degree=4, gamma=scale, kernel=rbf; total time=   0.0s\n",
      "[CV] END ............C=10, degree=4, gamma=scale, kernel=rbf; total time=   0.0s\n",
      "[CV] END .........C=10, degree=4, gamma=scale, kernel=linear; total time=   0.0s\n",
      "[CV] END .........C=10, degree=4, gamma=scale, kernel=linear; total time=   0.0s\n",
      "[CV] END .........C=10, degree=4, gamma=scale, kernel=linear; total time=   0.2s\n",
      "[CV] END .........C=10, degree=4, gamma=scale, kernel=linear; total time=   0.0s\n",
      "[CV] END .........C=10, degree=4, gamma=scale, kernel=linear; total time=   0.0s\n",
      "[CV] END .............C=10, degree=4, gamma=auto, kernel=rbf; total time=   0.0s\n",
      "[CV] END .............C=10, degree=4, gamma=auto, kernel=rbf; total time=   0.0s\n",
      "[CV] END .............C=10, degree=4, gamma=auto, kernel=rbf; total time=   0.0s\n",
      "[CV] END .............C=10, degree=4, gamma=auto, kernel=rbf; total time=   0.0s\n",
      "[CV] END .............C=10, degree=4, gamma=auto, kernel=rbf; total time=   0.0s\n",
      "[CV] END ..........C=10, degree=4, gamma=auto, kernel=linear; total time=   0.0s\n",
      "[CV] END ..........C=10, degree=4, gamma=auto, kernel=linear; total time=   0.0s\n",
      "[CV] END ..........C=10, degree=4, gamma=auto, kernel=linear; total time=   0.2s\n",
      "[CV] END ..........C=10, degree=4, gamma=auto, kernel=linear; total time=   0.0s\n",
      "[CV] END ..........C=10, degree=4, gamma=auto, kernel=linear; total time=   0.0s\n",
      "[CV] END ............C=50, degree=3, gamma=scale, kernel=rbf; total time=   0.0s\n",
      "[CV] END ............C=50, degree=3, gamma=scale, kernel=rbf; total time=   0.0s\n",
      "[CV] END ............C=50, degree=3, gamma=scale, kernel=rbf; total time=   0.0s\n",
      "[CV] END ............C=50, degree=3, gamma=scale, kernel=rbf; total time=   0.0s\n",
      "[CV] END ............C=50, degree=3, gamma=scale, kernel=rbf; total time=   0.0s\n",
      "[CV] END .........C=50, degree=3, gamma=scale, kernel=linear; total time=   0.2s\n",
      "[CV] END .........C=50, degree=3, gamma=scale, kernel=linear; total time=   0.2s\n",
      "[CV] END .........C=50, degree=3, gamma=scale, kernel=linear; total time=   0.5s\n",
      "[CV] END .........C=50, degree=3, gamma=scale, kernel=linear; total time=   0.2s\n",
      "[CV] END .........C=50, degree=3, gamma=scale, kernel=linear; total time=   0.3s\n",
      "[CV] END .............C=50, degree=3, gamma=auto, kernel=rbf; total time=   0.0s\n",
      "[CV] END .............C=50, degree=3, gamma=auto, kernel=rbf; total time=   0.0s\n",
      "[CV] END .............C=50, degree=3, gamma=auto, kernel=rbf; total time=   0.0s\n",
      "[CV] END .............C=50, degree=3, gamma=auto, kernel=rbf; total time=   0.0s\n",
      "[CV] END .............C=50, degree=3, gamma=auto, kernel=rbf; total time=   0.0s\n",
      "[CV] END ..........C=50, degree=3, gamma=auto, kernel=linear; total time=   0.1s\n",
      "[CV] END ..........C=50, degree=3, gamma=auto, kernel=linear; total time=   0.2s\n",
      "[CV] END ..........C=50, degree=3, gamma=auto, kernel=linear; total time=   0.6s\n",
      "[CV] END ..........C=50, degree=3, gamma=auto, kernel=linear; total time=   0.2s\n",
      "[CV] END ..........C=50, degree=3, gamma=auto, kernel=linear; total time=   0.2s\n",
      "[CV] END ............C=50, degree=4, gamma=scale, kernel=rbf; total time=   0.0s\n",
      "[CV] END ............C=50, degree=4, gamma=scale, kernel=rbf; total time=   0.0s\n",
      "[CV] END ............C=50, degree=4, gamma=scale, kernel=rbf; total time=   0.0s\n",
      "[CV] END ............C=50, degree=4, gamma=scale, kernel=rbf; total time=   0.0s\n",
      "[CV] END ............C=50, degree=4, gamma=scale, kernel=rbf; total time=   0.0s\n",
      "[CV] END .........C=50, degree=4, gamma=scale, kernel=linear; total time=   0.1s\n",
      "[CV] END .........C=50, degree=4, gamma=scale, kernel=linear; total time=   0.2s\n",
      "[CV] END .........C=50, degree=4, gamma=scale, kernel=linear; total time=   0.5s\n",
      "[CV] END .........C=50, degree=4, gamma=scale, kernel=linear; total time=   0.2s\n",
      "[CV] END .........C=50, degree=4, gamma=scale, kernel=linear; total time=   0.3s\n",
      "[CV] END .............C=50, degree=4, gamma=auto, kernel=rbf; total time=   0.0s\n",
      "[CV] END .............C=50, degree=4, gamma=auto, kernel=rbf; total time=   0.0s\n",
      "[CV] END .............C=50, degree=4, gamma=auto, kernel=rbf; total time=   0.0s\n",
      "[CV] END .............C=50, degree=4, gamma=auto, kernel=rbf; total time=   0.0s\n",
      "[CV] END .............C=50, degree=4, gamma=auto, kernel=rbf; total time=   0.0s\n",
      "[CV] END ..........C=50, degree=4, gamma=auto, kernel=linear; total time=   0.1s\n",
      "[CV] END ..........C=50, degree=4, gamma=auto, kernel=linear; total time=   0.2s\n",
      "[CV] END ..........C=50, degree=4, gamma=auto, kernel=linear; total time=   0.6s\n",
      "[CV] END ..........C=50, degree=4, gamma=auto, kernel=linear; total time=   0.2s\n",
      "[CV] END ..........C=50, degree=4, gamma=auto, kernel=linear; total time=   0.3s\n",
      "[CV] END ...........C=100, degree=3, gamma=scale, kernel=rbf; total time=   0.0s\n",
      "[CV] END ...........C=100, degree=3, gamma=scale, kernel=rbf; total time=   0.0s\n",
      "[CV] END ...........C=100, degree=3, gamma=scale, kernel=rbf; total time=   0.0s\n",
      "[CV] END ...........C=100, degree=3, gamma=scale, kernel=rbf; total time=   0.0s\n",
      "[CV] END ...........C=100, degree=3, gamma=scale, kernel=rbf; total time=   0.0s\n"
     ]
    },
    {
     "name": "stdout",
     "output_type": "stream",
     "text": [
      "[CV] END ........C=100, degree=3, gamma=scale, kernel=linear; total time=   0.4s\n",
      "[CV] END ........C=100, degree=3, gamma=scale, kernel=linear; total time=   0.6s\n",
      "[CV] END ........C=100, degree=3, gamma=scale, kernel=linear; total time=   0.8s\n",
      "[CV] END ........C=100, degree=3, gamma=scale, kernel=linear; total time=   0.5s\n",
      "[CV] END ........C=100, degree=3, gamma=scale, kernel=linear; total time=   0.6s\n",
      "[CV] END ............C=100, degree=3, gamma=auto, kernel=rbf; total time=   0.0s\n",
      "[CV] END ............C=100, degree=3, gamma=auto, kernel=rbf; total time=   0.0s\n",
      "[CV] END ............C=100, degree=3, gamma=auto, kernel=rbf; total time=   0.0s\n",
      "[CV] END ............C=100, degree=3, gamma=auto, kernel=rbf; total time=   0.0s\n",
      "[CV] END ............C=100, degree=3, gamma=auto, kernel=rbf; total time=   0.0s\n",
      "[CV] END .........C=100, degree=3, gamma=auto, kernel=linear; total time=   0.3s\n",
      "[CV] END .........C=100, degree=3, gamma=auto, kernel=linear; total time=   0.5s\n",
      "[CV] END .........C=100, degree=3, gamma=auto, kernel=linear; total time=   0.8s\n",
      "[CV] END .........C=100, degree=3, gamma=auto, kernel=linear; total time=   0.6s\n",
      "[CV] END .........C=100, degree=3, gamma=auto, kernel=linear; total time=   0.6s\n",
      "[CV] END ...........C=100, degree=4, gamma=scale, kernel=rbf; total time=   0.0s\n",
      "[CV] END ...........C=100, degree=4, gamma=scale, kernel=rbf; total time=   0.0s\n",
      "[CV] END ...........C=100, degree=4, gamma=scale, kernel=rbf; total time=   0.0s\n",
      "[CV] END ...........C=100, degree=4, gamma=scale, kernel=rbf; total time=   0.0s\n",
      "[CV] END ...........C=100, degree=4, gamma=scale, kernel=rbf; total time=   0.0s\n",
      "[CV] END ........C=100, degree=4, gamma=scale, kernel=linear; total time=   0.4s\n",
      "[CV] END ........C=100, degree=4, gamma=scale, kernel=linear; total time=   0.5s\n",
      "[CV] END ........C=100, degree=4, gamma=scale, kernel=linear; total time=   0.9s\n",
      "[CV] END ........C=100, degree=4, gamma=scale, kernel=linear; total time=   0.5s\n",
      "[CV] END ........C=100, degree=4, gamma=scale, kernel=linear; total time=   0.6s\n",
      "[CV] END ............C=100, degree=4, gamma=auto, kernel=rbf; total time=   0.0s\n",
      "[CV] END ............C=100, degree=4, gamma=auto, kernel=rbf; total time=   0.0s\n",
      "[CV] END ............C=100, degree=4, gamma=auto, kernel=rbf; total time=   0.0s\n",
      "[CV] END ............C=100, degree=4, gamma=auto, kernel=rbf; total time=   0.0s\n",
      "[CV] END ............C=100, degree=4, gamma=auto, kernel=rbf; total time=   0.0s\n",
      "[CV] END .........C=100, degree=4, gamma=auto, kernel=linear; total time=   0.4s\n",
      "[CV] END .........C=100, degree=4, gamma=auto, kernel=linear; total time=   0.6s\n",
      "[CV] END .........C=100, degree=4, gamma=auto, kernel=linear; total time=   0.7s\n",
      "[CV] END .........C=100, degree=4, gamma=auto, kernel=linear; total time=   0.6s\n",
      "[CV] END .........C=100, degree=4, gamma=auto, kernel=linear; total time=   0.6s\n",
      "{'C': 50, 'degree': 3, 'gamma': 'scale', 'kernel': 'rbf'}\n",
      "              precision    recall  f1-score   support\n",
      "\n",
      "           0       0.97      1.00      0.99        72\n",
      "           1       1.00      0.98      0.99        82\n",
      "\n",
      "    accuracy                           0.99       154\n",
      "   macro avg       0.99      0.99      0.99       154\n",
      "weighted avg       0.99      0.99      0.99       154\n",
      "\n",
      "<sklearn.metrics._plot.confusion_matrix.ConfusionMatrixDisplay object at 0x000001EA44AEB6D0>\n"
     ]
    },
    {
     "data": {
      "image/png": "[encoded data removed]",
      "text/plain": [
       "<Figure size 432x288 with 2 Axes>"
      ]
     },
     "metadata": {
      "needs_background": "light"
     },
     "output_type": "display_data"
    }
   ],
   "source": [
    "model = SVC()\n",
    "\n",
    "param = {'C':[1.0,2,5,10,50,100],\n",
    "    'kernel': ['rbf','linear'],\n",
    "    'degree':[3,4],\n",
    "    'gamma':['scale','auto']}\n",
    "\n",
    "gridModel = GridSearchCV(model,param_grid=param,scoring='accuracy',cv=5,verbose=2)\n",
    "trainModelGrid(gridModel,X_train_scaled,X_test_scaled,y_train,y_test)"
   ]
  },
  {
   "cell_type": "code",
   "execution_count": 13,
   "id": "716b428c",
   "metadata": {},
   "outputs": [
    {
     "name": "stdout",
     "output_type": "stream",
     "text": [
      "              precision    recall  f1-score   support\n",
      "\n",
      "           0       0.97      1.00      0.99        72\n",
      "           1       1.00      0.98      0.99        82\n",
      "\n",
      "    accuracy                           0.99       154\n",
      "   macro avg       0.99      0.99      0.99       154\n",
      "weighted avg       0.99      0.99      0.99       154\n",
      "\n",
      "[[72  0]\n",
      " [ 2 80]]\n"
     ]
    }
   ],
   "source": [
    "model = SVC(C=50,probability=True)\n",
    "model.fit(X_train_scaled,y_train)\n",
    "prob = model.predict_proba(X_test_scaled)[:,1]\n",
    "y_pred = np.where(prob >=0.4,1,0) # Choosing custom thresold\n",
    "print(classification_report(y_test,y_pred))\n",
    "print(confusion_matrix(y_test,y_pred))"
   ]
  },
  {
   "cell_type": "code",
   "execution_count": 14,
   "id": "69c582ad",
   "metadata": {},
   "outputs": [
    {
     "data": {
      "text/plain": [
       "dict_keys(['explained_variance', 'r2', 'max_error', 'neg_median_absolute_error', 'neg_mean_absolute_error', 'neg_mean_absolute_percentage_error', 'neg_mean_squared_error', 'neg_mean_squared_log_error', 'neg_root_mean_squared_error', 'neg_mean_poisson_deviance', 'neg_mean_gamma_deviance', 'accuracy', 'top_k_accuracy', 'roc_auc', 'roc_auc_ovr', 'roc_auc_ovo', 'roc_auc_ovr_weighted', 'roc_auc_ovo_weighted', 'balanced_accuracy', 'average_precision', 'neg_log_loss', 'neg_brier_score', 'adjusted_rand_score', 'rand_score', 'homogeneity_score', 'completeness_score', 'v_measure_score', 'mutual_info_score', 'adjusted_mutual_info_score', 'normalized_mutual_info_score', 'fowlkes_mallows_score', 'precision', 'precision_macro', 'precision_micro', 'precision_samples', 'precision_weighted', 'recall', 'recall_macro', 'recall_micro', 'recall_samples', 'recall_weighted', 'f1', 'f1_macro', 'f1_micro', 'f1_samples', 'f1_weighted', 'jaccard', 'jaccard_macro', 'jaccard_micro', 'jaccard_samples', 'jaccard_weighted'])"
      ]
     },
     "execution_count": 14,
     "metadata": {},
     "output_type": "execute_result"
    }
   ],
   "source": [
    "SCORERS.keys()"
   ]
  },
  {
   "cell_type": "markdown",
   "id": "78c07bdd",
   "metadata": {},
   "source": [
    "### KNN"
   ]
  },
  {
   "cell_type": "code",
   "execution_count": 15,
   "id": "1f6d3b91",
   "metadata": {},
   "outputs": [
    {
     "name": "stdout",
     "output_type": "stream",
     "text": [
      "              precision    recall  f1-score   support\n",
      "\n",
      "           0       0.97      1.00      0.99        72\n",
      "           1       1.00      0.98      0.99        82\n",
      "\n",
      "    accuracy                           0.99       154\n",
      "   macro avg       0.99      0.99      0.99       154\n",
      "weighted avg       0.99      0.99      0.99       154\n",
      "\n",
      "<sklearn.metrics._plot.confusion_matrix.ConfusionMatrixDisplay object at 0x000001EA453F05E0>\n",
      "<sklearn.metrics._plot.roc_curve.RocCurveDisplay object at 0x000001EA3F36F880>\n"
     ]
    },
    {
     "data": {
      "image/png": "[encoded data removed]",
      "text/plain": [
       "<Figure size 432x288 with 2 Axes>"
      ]
     },
     "metadata": {
      "needs_background": "light"
     },
     "output_type": "display_data"
    },
    {
     "data": {
      "image/png": "[encoded data removed]",
      "text/plain": [
       "<Figure size 432x288 with 1 Axes>"
      ]
     },
     "metadata": {
      "needs_background": "light"
     },
     "output_type": "display_data"
    }
   ],
   "source": [
    "model = KNeighborsClassifier(1)\n",
    "trainModel(model,X_train_scaled,X_test_scaled,y_train,y_test)"
   ]
  },
  {
   "cell_type": "code",
   "execution_count": 16,
   "id": "412b3991",
   "metadata": {},
   "outputs": [
    {
     "data": {
      "text/plain": [
       "[<matplotlib.lines.Line2D at 0x1ea45416fd0>]"
      ]
     },
     "execution_count": 16,
     "metadata": {},
     "output_type": "execute_result"
    },
    {
     "data": {
      "image/png": "[encoded data removed]",
      "text/plain": [
       "<Figure size 432x288 with 1 Axes>"
      ]
     },
     "metadata": {
      "needs_background": "light"
     },
     "output_type": "display_data"
    }
   ],
   "source": [
    "errors = []\n",
    "for i in range(1,25):\n",
    "    model = KNeighborsClassifier(i)\n",
    "    model.fit(X_train_scaled,y_train)\n",
    "    y_pred = model.predict(X_test_scaled)\n",
    "    error = 1 - accuracy_score(y_test,y_pred)\n",
    "    errors.append(error)\n",
    "    \n",
    "plt.plot(range(1,25),errors)"
   ]
  },
  {
   "cell_type": "code",
   "execution_count": 17,
   "id": "014af77b",
   "metadata": {},
   "outputs": [
    {
     "name": "stdout",
     "output_type": "stream",
     "text": [
      "              precision    recall  f1-score   support\n",
      "\n",
      "           0       0.97      1.00      0.99        72\n",
      "           1       1.00      0.98      0.99        82\n",
      "\n",
      "    accuracy                           0.99       154\n",
      "   macro avg       0.99      0.99      0.99       154\n",
      "weighted avg       0.99      0.99      0.99       154\n",
      "\n",
      "[[72  0]\n",
      " [ 2 80]]\n"
     ]
    }
   ],
   "source": [
    "model = KNeighborsClassifier(n_neighbors=1)\n",
    "model.fit(X_train_scaled,y_train)\n",
    "prob = model.predict_proba(X_test_scaled)[:,1]\n",
    "y_pred = np.where(prob >=0.2,1,0) # Choosing custom thresold\n",
    "print(classification_report(y_test,y_pred))\n",
    "print(confusion_matrix(y_test,y_pred))"
   ]
  },
  {
   "cell_type": "markdown",
   "id": "26ba2cc5",
   "metadata": {},
   "source": [
    "### Decision Tree"
   ]
  },
  {
   "cell_type": "code",
   "execution_count": 39,
   "id": "9341a3e0",
   "metadata": {},
   "outputs": [
    {
     "name": "stdout",
     "output_type": "stream",
     "text": [
      "              precision    recall  f1-score   support\n",
      "\n",
      "           0       0.91      1.00      0.95        72\n",
      "           1       1.00      0.91      0.96        82\n",
      "\n",
      "    accuracy                           0.95       154\n",
      "   macro avg       0.96      0.96      0.95       154\n",
      "weighted avg       0.96      0.95      0.95       154\n",
      "\n",
      "<sklearn.metrics._plot.confusion_matrix.ConfusionMatrixDisplay object at 0x000001EA45285040>\n",
      "<sklearn.metrics._plot.roc_curve.RocCurveDisplay object at 0x000001EA47059EB0>\n"
     ]
    },
    {
     "data": {
      "image/png": "[encoded data removed]",
      "text/plain": [
       "<Figure size 432x288 with 2 Axes>"
      ]
     },
     "metadata": {
      "needs_background": "light"
     },
     "output_type": "display_data"
    },
    {
     "data": {
      "image/png": "[encoded data removed]",
      "text/plain": [
       "<Figure size 432x288 with 1 Axes>"
      ]
     },
     "metadata": {
      "needs_background": "light"
     },
     "output_type": "display_data"
    }
   ],
   "source": [
    "model = DecisionTreeClassifier()\n",
    "trainModel(model,X_train_scaled,X_test_scaled,y_train,y_test)"
   ]
  },
  {
   "cell_type": "markdown",
   "id": "43ba2b1e",
   "metadata": {},
   "source": [
    "### Random Forest"
   ]
  },
  {
   "cell_type": "code",
   "execution_count": 40,
   "id": "ecd05643",
   "metadata": {},
   "outputs": [
    {
     "name": "stdout",
     "output_type": "stream",
     "text": [
      "              precision    recall  f1-score   support\n",
      "\n",
      "           0       1.00      1.00      1.00        72\n",
      "           1       1.00      1.00      1.00        82\n",
      "\n",
      "    accuracy                           1.00       154\n",
      "   macro avg       1.00      1.00      1.00       154\n",
      "weighted avg       1.00      1.00      1.00       154\n",
      "\n",
      "<sklearn.metrics._plot.confusion_matrix.ConfusionMatrixDisplay object at 0x000001EA45E9A280>\n",
      "<sklearn.metrics._plot.roc_curve.RocCurveDisplay object at 0x000001EA45E9A280>\n"
     ]
    },
    {
     "data": {
      "image/png": "[encoded data removed]",
      "text/plain": [
       "<Figure size 432x288 with 2 Axes>"
      ]
     },
     "metadata": {
      "needs_background": "light"
     },
     "output_type": "display_data"
    },
    {
     "data": {
      "image/png": "[encoded data removed]",
      "text/plain": [
       "<Figure size 432x288 with 1 Axes>"
      ]
     },
     "metadata": {
      "needs_background": "light"
     },
     "output_type": "display_data"
    }
   ],
   "source": [
    "model = RandomForestClassifier()\n",
    "trainModel(model,X_train_scaled,X_test_scaled,y_train,y_test)"
   ]
  },
  {
   "cell_type": "code",
   "execution_count": 20,
   "id": "35f0f019",
   "metadata": {},
   "outputs": [
    {
     "name": "stdout",
     "output_type": "stream",
     "text": [
      "Fitting 5 folds for each of 48 candidates, totalling 240 fits\n",
      "[CV] END max_depth=3, min_samples_leaf=1, min_samples_split=2, n_estimators=100; total time=   0.1s\n",
      "[CV] END max_depth=3, min_samples_leaf=1, min_samples_split=2, n_estimators=100; total time=   0.1s\n",
      "[CV] END max_depth=3, min_samples_leaf=1, min_samples_split=2, n_estimators=100; total time=   0.2s\n",
      "[CV] END max_depth=3, min_samples_leaf=1, min_samples_split=2, n_estimators=100; total time=   0.1s\n",
      "[CV] END max_depth=3, min_samples_leaf=1, min_samples_split=2, n_estimators=100; total time=   0.2s\n",
      "[CV] END max_depth=3, min_samples_leaf=1, min_samples_split=2, n_estimators=120; total time=   0.2s\n",
      "[CV] END max_depth=3, min_samples_leaf=1, min_samples_split=2, n_estimators=120; total time=   0.3s\n",
      "[CV] END max_depth=3, min_samples_leaf=1, min_samples_split=2, n_estimators=120; total time=   0.3s\n",
      "[CV] END max_depth=3, min_samples_leaf=1, min_samples_split=2, n_estimators=120; total time=   0.2s\n",
      "[CV] END max_depth=3, min_samples_leaf=1, min_samples_split=2, n_estimators=120; total time=   0.2s\n",
      "[CV] END max_depth=3, min_samples_leaf=1, min_samples_split=2, n_estimators=130; total time=   0.3s\n",
      "[CV] END max_depth=3, min_samples_leaf=1, min_samples_split=2, n_estimators=130; total time=   0.2s\n",
      "[CV] END max_depth=3, min_samples_leaf=1, min_samples_split=2, n_estimators=130; total time=   0.2s\n",
      "[CV] END max_depth=3, min_samples_leaf=1, min_samples_split=2, n_estimators=130; total time=   0.2s\n",
      "[CV] END max_depth=3, min_samples_leaf=1, min_samples_split=2, n_estimators=130; total time=   0.2s\n",
      "[CV] END max_depth=3, min_samples_leaf=1, min_samples_split=2, n_estimators=140; total time=   0.4s\n",
      "[CV] END max_depth=3, min_samples_leaf=1, min_samples_split=2, n_estimators=140; total time=   0.3s\n",
      "[CV] END max_depth=3, min_samples_leaf=1, min_samples_split=2, n_estimators=140; total time=   0.2s\n",
      "[CV] END max_depth=3, min_samples_leaf=1, min_samples_split=2, n_estimators=140; total time=   0.4s\n",
      "[CV] END max_depth=3, min_samples_leaf=1, min_samples_split=2, n_estimators=140; total time=   0.2s\n",
      "[CV] END max_depth=3, min_samples_leaf=1, min_samples_split=2, n_estimators=150; total time=   0.2s\n",
      "[CV] END max_depth=3, min_samples_leaf=1, min_samples_split=2, n_estimators=150; total time=   0.3s\n",
      "[CV] END max_depth=3, min_samples_leaf=1, min_samples_split=2, n_estimators=150; total time=   0.3s\n",
      "[CV] END max_depth=3, min_samples_leaf=1, min_samples_split=2, n_estimators=150; total time=   0.3s\n",
      "[CV] END max_depth=3, min_samples_leaf=1, min_samples_split=2, n_estimators=150; total time=   0.3s\n",
      "[CV] END max_depth=3, min_samples_leaf=1, min_samples_split=2, n_estimators=160; total time=   0.4s\n",
      "[CV] END max_depth=3, min_samples_leaf=1, min_samples_split=2, n_estimators=160; total time=   0.4s\n",
      "[CV] END max_depth=3, min_samples_leaf=1, min_samples_split=2, n_estimators=160; total time=   0.2s\n",
      "[CV] END max_depth=3, min_samples_leaf=1, min_samples_split=2, n_estimators=160; total time=   0.4s\n",
      "[CV] END max_depth=3, min_samples_leaf=1, min_samples_split=2, n_estimators=160; total time=   0.3s\n",
      "[CV] END max_depth=3, min_samples_leaf=1, min_samples_split=3, n_estimators=100; total time=   0.2s\n",
      "[CV] END max_depth=3, min_samples_leaf=1, min_samples_split=3, n_estimators=100; total time=   0.2s\n",
      "[CV] END max_depth=3, min_samples_leaf=1, min_samples_split=3, n_estimators=100; total time=   0.1s\n",
      "[CV] END max_depth=3, min_samples_leaf=1, min_samples_split=3, n_estimators=100; total time=   0.2s\n",
      "[CV] END max_depth=3, min_samples_leaf=1, min_samples_split=3, n_estimators=100; total time=   0.2s\n",
      "[CV] END max_depth=3, min_samples_leaf=1, min_samples_split=3, n_estimators=120; total time=   0.2s\n",
      "[CV] END max_depth=3, min_samples_leaf=1, min_samples_split=3, n_estimators=120; total time=   0.2s\n",
      "[CV] END max_depth=3, min_samples_leaf=1, min_samples_split=3, n_estimators=120; total time=   0.2s\n",
      "[CV] END max_depth=3, min_samples_leaf=1, min_samples_split=3, n_estimators=120; total time=   0.3s\n",
      "[CV] END max_depth=3, min_samples_leaf=1, min_samples_split=3, n_estimators=120; total time=   0.2s\n",
      "[CV] END max_depth=3, min_samples_leaf=1, min_samples_split=3, n_estimators=130; total time=   0.2s\n",
      "[CV] END max_depth=3, min_samples_leaf=1, min_samples_split=3, n_estimators=130; total time=   0.2s\n",
      "[CV] END max_depth=3, min_samples_leaf=1, min_samples_split=3, n_estimators=130; total time=   0.3s\n",
      "[CV] END max_depth=3, min_samples_leaf=1, min_samples_split=3, n_estimators=130; total time=   0.2s\n",
      "[CV] END max_depth=3, min_samples_leaf=1, min_samples_split=3, n_estimators=130; total time=   0.2s\n",
      "[CV] END max_depth=3, min_samples_leaf=1, min_samples_split=3, n_estimators=140; total time=   0.2s\n",
      "[CV] END max_depth=3, min_samples_leaf=1, min_samples_split=3, n_estimators=140; total time=   0.3s\n",
      "[CV] END max_depth=3, min_samples_leaf=1, min_samples_split=3, n_estimators=140; total time=   0.3s\n",
      "[CV] END max_depth=3, min_samples_leaf=1, min_samples_split=3, n_estimators=140; total time=   0.2s\n",
      "[CV] END max_depth=3, min_samples_leaf=1, min_samples_split=3, n_estimators=140; total time=   0.2s\n",
      "[CV] END max_depth=3, min_samples_leaf=1, min_samples_split=3, n_estimators=150; total time=   0.4s\n",
      "[CV] END max_depth=3, min_samples_leaf=1, min_samples_split=3, n_estimators=150; total time=   0.2s\n",
      "[CV] END max_depth=3, min_samples_leaf=1, min_samples_split=3, n_estimators=150; total time=   0.3s\n",
      "[CV] END max_depth=3, min_samples_leaf=1, min_samples_split=3, n_estimators=150; total time=   0.3s\n",
      "[CV] END max_depth=3, min_samples_leaf=1, min_samples_split=3, n_estimators=150; total time=   0.3s\n",
      "[CV] END max_depth=3, min_samples_leaf=1, min_samples_split=3, n_estimators=160; total time=   0.4s\n",
      "[CV] END max_depth=3, min_samples_leaf=1, min_samples_split=3, n_estimators=160; total time=   0.3s\n",
      "[CV] END max_depth=3, min_samples_leaf=1, min_samples_split=3, n_estimators=160; total time=   0.4s\n",
      "[CV] END max_depth=3, min_samples_leaf=1, min_samples_split=3, n_estimators=160; total time=   0.2s\n",
      "[CV] END max_depth=3, min_samples_leaf=1, min_samples_split=3, n_estimators=160; total time=   0.3s\n",
      "[CV] END max_depth=4, min_samples_leaf=1, min_samples_split=2, n_estimators=100; total time=   0.3s\n",
      "[CV] END max_depth=4, min_samples_leaf=1, min_samples_split=2, n_estimators=100; total time=   0.1s\n",
      "[CV] END max_depth=4, min_samples_leaf=1, min_samples_split=2, n_estimators=100; total time=   0.2s\n",
      "[CV] END max_depth=4, min_samples_leaf=1, min_samples_split=2, n_estimators=100; total time=   0.2s\n",
      "[CV] END max_depth=4, min_samples_leaf=1, min_samples_split=2, n_estimators=100; total time=   0.2s\n",
      "[CV] END max_depth=4, min_samples_leaf=1, min_samples_split=2, n_estimators=120; total time=   0.2s\n",
      "[CV] END max_depth=4, min_samples_leaf=1, min_samples_split=2, n_estimators=120; total time=   0.2s\n",
      "[CV] END max_depth=4, min_samples_leaf=1, min_samples_split=2, n_estimators=120; total time=   0.2s\n",
      "[CV] END max_depth=4, min_samples_leaf=1, min_samples_split=2, n_estimators=120; total time=   0.2s\n",
      "[CV] END max_depth=4, min_samples_leaf=1, min_samples_split=2, n_estimators=120; total time=   0.3s\n",
      "[CV] END max_depth=4, min_samples_leaf=1, min_samples_split=2, n_estimators=130; total time=   0.3s\n",
      "[CV] END max_depth=4, min_samples_leaf=1, min_samples_split=2, n_estimators=130; total time=   0.2s\n",
      "[CV] END max_depth=4, min_samples_leaf=1, min_samples_split=2, n_estimators=130; total time=   0.2s\n",
      "[CV] END max_depth=4, min_samples_leaf=1, min_samples_split=2, n_estimators=130; total time=   0.3s\n",
      "[CV] END max_depth=4, min_samples_leaf=1, min_samples_split=2, n_estimators=130; total time=   0.2s\n",
      "[CV] END max_depth=4, min_samples_leaf=1, min_samples_split=2, n_estimators=140; total time=   0.3s\n",
      "[CV] END max_depth=4, min_samples_leaf=1, min_samples_split=2, n_estimators=140; total time=   0.2s\n",
      "[CV] END max_depth=4, min_samples_leaf=1, min_samples_split=2, n_estimators=140; total time=   0.3s\n",
      "[CV] END max_depth=4, min_samples_leaf=1, min_samples_split=2, n_estimators=140; total time=   0.3s\n",
      "[CV] END max_depth=4, min_samples_leaf=1, min_samples_split=2, n_estimators=140; total time=   0.2s\n",
      "[CV] END max_depth=4, min_samples_leaf=1, min_samples_split=2, n_estimators=150; total time=   0.2s\n",
      "[CV] END max_depth=4, min_samples_leaf=1, min_samples_split=2, n_estimators=150; total time=   0.4s\n"
     ]
    },
    {
     "name": "stdout",
     "output_type": "stream",
     "text": [
      "[CV] END max_depth=4, min_samples_leaf=1, min_samples_split=2, n_estimators=150; total time=   0.2s\n",
      "[CV] END max_depth=4, min_samples_leaf=1, min_samples_split=2, n_estimators=150; total time=   0.3s\n",
      "[CV] END max_depth=4, min_samples_leaf=1, min_samples_split=2, n_estimators=150; total time=   0.4s\n",
      "[CV] END max_depth=4, min_samples_leaf=1, min_samples_split=2, n_estimators=160; total time=   0.2s\n",
      "[CV] END max_depth=4, min_samples_leaf=1, min_samples_split=2, n_estimators=160; total time=   0.3s\n",
      "[CV] END max_depth=4, min_samples_leaf=1, min_samples_split=2, n_estimators=160; total time=   0.3s\n",
      "[CV] END max_depth=4, min_samples_leaf=1, min_samples_split=2, n_estimators=160; total time=   0.4s\n",
      "[CV] END max_depth=4, min_samples_leaf=1, min_samples_split=2, n_estimators=160; total time=   0.3s\n",
      "[CV] END max_depth=4, min_samples_leaf=1, min_samples_split=3, n_estimators=100; total time=   0.1s\n",
      "[CV] END max_depth=4, min_samples_leaf=1, min_samples_split=3, n_estimators=100; total time=   0.2s\n",
      "[CV] END max_depth=4, min_samples_leaf=1, min_samples_split=3, n_estimators=100; total time=   0.2s\n",
      "[CV] END max_depth=4, min_samples_leaf=1, min_samples_split=3, n_estimators=100; total time=   0.1s\n",
      "[CV] END max_depth=4, min_samples_leaf=1, min_samples_split=3, n_estimators=100; total time=   0.1s\n",
      "[CV] END max_depth=4, min_samples_leaf=1, min_samples_split=3, n_estimators=120; total time=   0.3s\n",
      "[CV] END max_depth=4, min_samples_leaf=1, min_samples_split=3, n_estimators=120; total time=   0.3s\n",
      "[CV] END max_depth=4, min_samples_leaf=1, min_samples_split=3, n_estimators=120; total time=   0.2s\n",
      "[CV] END max_depth=4, min_samples_leaf=1, min_samples_split=3, n_estimators=120; total time=   0.2s\n",
      "[CV] END max_depth=4, min_samples_leaf=1, min_samples_split=3, n_estimators=120; total time=   0.2s\n",
      "[CV] END max_depth=4, min_samples_leaf=1, min_samples_split=3, n_estimators=130; total time=   0.3s\n",
      "[CV] END max_depth=4, min_samples_leaf=1, min_samples_split=3, n_estimators=130; total time=   0.3s\n",
      "[CV] END max_depth=4, min_samples_leaf=1, min_samples_split=3, n_estimators=130; total time=   0.2s\n",
      "[CV] END max_depth=4, min_samples_leaf=1, min_samples_split=3, n_estimators=130; total time=   0.2s\n",
      "[CV] END max_depth=4, min_samples_leaf=1, min_samples_split=3, n_estimators=130; total time=   0.3s\n",
      "[CV] END max_depth=4, min_samples_leaf=1, min_samples_split=3, n_estimators=140; total time=   0.2s\n",
      "[CV] END max_depth=4, min_samples_leaf=1, min_samples_split=3, n_estimators=140; total time=   0.2s\n",
      "[CV] END max_depth=4, min_samples_leaf=1, min_samples_split=3, n_estimators=140; total time=   0.3s\n",
      "[CV] END max_depth=4, min_samples_leaf=1, min_samples_split=3, n_estimators=140; total time=   0.3s\n",
      "[CV] END max_depth=4, min_samples_leaf=1, min_samples_split=3, n_estimators=140; total time=   0.2s\n",
      "[CV] END max_depth=4, min_samples_leaf=1, min_samples_split=3, n_estimators=150; total time=   0.3s\n",
      "[CV] END max_depth=4, min_samples_leaf=1, min_samples_split=3, n_estimators=150; total time=   0.2s\n",
      "[CV] END max_depth=4, min_samples_leaf=1, min_samples_split=3, n_estimators=150; total time=   0.4s\n",
      "[CV] END max_depth=4, min_samples_leaf=1, min_samples_split=3, n_estimators=150; total time=   0.2s\n",
      "[CV] END max_depth=4, min_samples_leaf=1, min_samples_split=3, n_estimators=150; total time=   0.2s\n",
      "[CV] END max_depth=4, min_samples_leaf=1, min_samples_split=3, n_estimators=160; total time=   0.4s\n",
      "[CV] END max_depth=4, min_samples_leaf=1, min_samples_split=3, n_estimators=160; total time=   0.2s\n",
      "[CV] END max_depth=4, min_samples_leaf=1, min_samples_split=3, n_estimators=160; total time=   0.3s\n",
      "[CV] END max_depth=4, min_samples_leaf=1, min_samples_split=3, n_estimators=160; total time=   0.3s\n",
      "[CV] END max_depth=4, min_samples_leaf=1, min_samples_split=3, n_estimators=160; total time=   0.3s\n",
      "[CV] END max_depth=5, min_samples_leaf=1, min_samples_split=2, n_estimators=100; total time=   0.2s\n",
      "[CV] END max_depth=5, min_samples_leaf=1, min_samples_split=2, n_estimators=100; total time=   0.2s\n",
      "[CV] END max_depth=5, min_samples_leaf=1, min_samples_split=2, n_estimators=100; total time=   0.1s\n",
      "[CV] END max_depth=5, min_samples_leaf=1, min_samples_split=2, n_estimators=100; total time=   0.2s\n",
      "[CV] END max_depth=5, min_samples_leaf=1, min_samples_split=2, n_estimators=100; total time=   0.2s\n",
      "[CV] END max_depth=5, min_samples_leaf=1, min_samples_split=2, n_estimators=120; total time=   0.2s\n",
      "[CV] END max_depth=5, min_samples_leaf=1, min_samples_split=2, n_estimators=120; total time=   0.3s\n",
      "[CV] END max_depth=5, min_samples_leaf=1, min_samples_split=2, n_estimators=120; total time=   0.3s\n",
      "[CV] END max_depth=5, min_samples_leaf=1, min_samples_split=2, n_estimators=120; total time=   0.2s\n",
      "[CV] END max_depth=5, min_samples_leaf=1, min_samples_split=2, n_estimators=120; total time=   0.2s\n",
      "[CV] END max_depth=5, min_samples_leaf=1, min_samples_split=2, n_estimators=130; total time=   0.2s\n",
      "[CV] END max_depth=5, min_samples_leaf=1, min_samples_split=2, n_estimators=130; total time=   0.2s\n",
      "[CV] END max_depth=5, min_samples_leaf=1, min_samples_split=2, n_estimators=130; total time=   0.3s\n",
      "[CV] END max_depth=5, min_samples_leaf=1, min_samples_split=2, n_estimators=130; total time=   0.2s\n",
      "[CV] END max_depth=5, min_samples_leaf=1, min_samples_split=2, n_estimators=130; total time=   0.2s\n",
      "[CV] END max_depth=5, min_samples_leaf=1, min_samples_split=2, n_estimators=140; total time=   0.3s\n",
      "[CV] END max_depth=5, min_samples_leaf=1, min_samples_split=2, n_estimators=140; total time=   0.3s\n",
      "[CV] END max_depth=5, min_samples_leaf=1, min_samples_split=2, n_estimators=140; total time=   0.2s\n",
      "[CV] END max_depth=5, min_samples_leaf=1, min_samples_split=2, n_estimators=140; total time=   0.3s\n",
      "[CV] END max_depth=5, min_samples_leaf=1, min_samples_split=2, n_estimators=140; total time=   0.4s\n",
      "[CV] END max_depth=5, min_samples_leaf=1, min_samples_split=2, n_estimators=150; total time=   0.3s\n",
      "[CV] END max_depth=5, min_samples_leaf=1, min_samples_split=2, n_estimators=150; total time=   0.3s\n",
      "[CV] END max_depth=5, min_samples_leaf=1, min_samples_split=2, n_estimators=150; total time=   0.2s\n",
      "[CV] END max_depth=5, min_samples_leaf=1, min_samples_split=2, n_estimators=150; total time=   0.4s\n",
      "[CV] END max_depth=5, min_samples_leaf=1, min_samples_split=2, n_estimators=150; total time=   0.2s\n",
      "[CV] END max_depth=5, min_samples_leaf=1, min_samples_split=2, n_estimators=160; total time=   0.3s\n",
      "[CV] END max_depth=5, min_samples_leaf=1, min_samples_split=2, n_estimators=160; total time=   0.8s\n",
      "[CV] END max_depth=5, min_samples_leaf=1, min_samples_split=2, n_estimators=160; total time=   0.7s\n",
      "[CV] END max_depth=5, min_samples_leaf=1, min_samples_split=2, n_estimators=160; total time=   0.4s\n",
      "[CV] END max_depth=5, min_samples_leaf=1, min_samples_split=2, n_estimators=160; total time=   0.3s\n",
      "[CV] END max_depth=5, min_samples_leaf=1, min_samples_split=3, n_estimators=100; total time=   0.2s\n",
      "[CV] END max_depth=5, min_samples_leaf=1, min_samples_split=3, n_estimators=100; total time=   0.3s\n",
      "[CV] END max_depth=5, min_samples_leaf=1, min_samples_split=3, n_estimators=100; total time=   0.2s\n",
      "[CV] END max_depth=5, min_samples_leaf=1, min_samples_split=3, n_estimators=100; total time=   0.2s\n",
      "[CV] END max_depth=5, min_samples_leaf=1, min_samples_split=3, n_estimators=100; total time=   0.3s\n",
      "[CV] END max_depth=5, min_samples_leaf=1, min_samples_split=3, n_estimators=120; total time=   0.4s\n",
      "[CV] END max_depth=5, min_samples_leaf=1, min_samples_split=3, n_estimators=120; total time=   0.3s\n",
      "[CV] END max_depth=5, min_samples_leaf=1, min_samples_split=3, n_estimators=120; total time=   0.2s\n",
      "[CV] END max_depth=5, min_samples_leaf=1, min_samples_split=3, n_estimators=120; total time=   0.2s\n",
      "[CV] END max_depth=5, min_samples_leaf=1, min_samples_split=3, n_estimators=120; total time=   0.4s\n",
      "[CV] END max_depth=5, min_samples_leaf=1, min_samples_split=3, n_estimators=130; total time=   0.3s\n",
      "[CV] END max_depth=5, min_samples_leaf=1, min_samples_split=3, n_estimators=130; total time=   0.2s\n",
      "[CV] END max_depth=5, min_samples_leaf=1, min_samples_split=3, n_estimators=130; total time=   0.5s\n",
      "[CV] END max_depth=5, min_samples_leaf=1, min_samples_split=3, n_estimators=130; total time=   0.2s\n"
     ]
    },
    {
     "name": "stdout",
     "output_type": "stream",
     "text": [
      "[CV] END max_depth=5, min_samples_leaf=1, min_samples_split=3, n_estimators=130; total time=   0.3s\n",
      "[CV] END max_depth=5, min_samples_leaf=1, min_samples_split=3, n_estimators=140; total time=   0.2s\n",
      "[CV] END max_depth=5, min_samples_leaf=1, min_samples_split=3, n_estimators=140; total time=   0.6s\n",
      "[CV] END max_depth=5, min_samples_leaf=1, min_samples_split=3, n_estimators=140; total time=   0.2s\n",
      "[CV] END max_depth=5, min_samples_leaf=1, min_samples_split=3, n_estimators=140; total time=   0.3s\n",
      "[CV] END max_depth=5, min_samples_leaf=1, min_samples_split=3, n_estimators=140; total time=   0.3s\n",
      "[CV] END max_depth=5, min_samples_leaf=1, min_samples_split=3, n_estimators=150; total time=   0.2s\n",
      "[CV] END max_depth=5, min_samples_leaf=1, min_samples_split=3, n_estimators=150; total time=   0.2s\n",
      "[CV] END max_depth=5, min_samples_leaf=1, min_samples_split=3, n_estimators=150; total time=   0.3s\n",
      "[CV] END max_depth=5, min_samples_leaf=1, min_samples_split=3, n_estimators=150; total time=   0.3s\n",
      "[CV] END max_depth=5, min_samples_leaf=1, min_samples_split=3, n_estimators=150; total time=   0.2s\n",
      "[CV] END max_depth=5, min_samples_leaf=1, min_samples_split=3, n_estimators=160; total time=   0.2s\n",
      "[CV] END max_depth=5, min_samples_leaf=1, min_samples_split=3, n_estimators=160; total time=   0.4s\n",
      "[CV] END max_depth=5, min_samples_leaf=1, min_samples_split=3, n_estimators=160; total time=   0.3s\n",
      "[CV] END max_depth=5, min_samples_leaf=1, min_samples_split=3, n_estimators=160; total time=   0.2s\n",
      "[CV] END max_depth=5, min_samples_leaf=1, min_samples_split=3, n_estimators=160; total time=   0.3s\n",
      "[CV] END max_depth=None, min_samples_leaf=1, min_samples_split=2, n_estimators=100; total time=   0.2s\n",
      "[CV] END max_depth=None, min_samples_leaf=1, min_samples_split=2, n_estimators=100; total time=   0.2s\n",
      "[CV] END max_depth=None, min_samples_leaf=1, min_samples_split=2, n_estimators=100; total time=   0.2s\n",
      "[CV] END max_depth=None, min_samples_leaf=1, min_samples_split=2, n_estimators=100; total time=   0.3s\n",
      "[CV] END max_depth=None, min_samples_leaf=1, min_samples_split=2, n_estimators=100; total time=   0.2s\n",
      "[CV] END max_depth=None, min_samples_leaf=1, min_samples_split=2, n_estimators=120; total time=   0.3s\n",
      "[CV] END max_depth=None, min_samples_leaf=1, min_samples_split=2, n_estimators=120; total time=   0.3s\n",
      "[CV] END max_depth=None, min_samples_leaf=1, min_samples_split=2, n_estimators=120; total time=   0.3s\n",
      "[CV] END max_depth=None, min_samples_leaf=1, min_samples_split=2, n_estimators=120; total time=   0.3s\n",
      "[CV] END max_depth=None, min_samples_leaf=1, min_samples_split=2, n_estimators=120; total time=   0.2s\n",
      "[CV] END max_depth=None, min_samples_leaf=1, min_samples_split=2, n_estimators=130; total time=   0.3s\n",
      "[CV] END max_depth=None, min_samples_leaf=1, min_samples_split=2, n_estimators=130; total time=   0.4s\n",
      "[CV] END max_depth=None, min_samples_leaf=1, min_samples_split=2, n_estimators=130; total time=   0.2s\n",
      "[CV] END max_depth=None, min_samples_leaf=1, min_samples_split=2, n_estimators=130; total time=   0.3s\n",
      "[CV] END max_depth=None, min_samples_leaf=1, min_samples_split=2, n_estimators=130; total time=   0.3s\n",
      "[CV] END max_depth=None, min_samples_leaf=1, min_samples_split=2, n_estimators=140; total time=   0.3s\n",
      "[CV] END max_depth=None, min_samples_leaf=1, min_samples_split=2, n_estimators=140; total time=   0.2s\n",
      "[CV] END max_depth=None, min_samples_leaf=1, min_samples_split=2, n_estimators=140; total time=   0.2s\n",
      "[CV] END max_depth=None, min_samples_leaf=1, min_samples_split=2, n_estimators=140; total time=   0.3s\n",
      "[CV] END max_depth=None, min_samples_leaf=1, min_samples_split=2, n_estimators=140; total time=   0.3s\n",
      "[CV] END max_depth=None, min_samples_leaf=1, min_samples_split=2, n_estimators=150; total time=   0.3s\n",
      "[CV] END max_depth=None, min_samples_leaf=1, min_samples_split=2, n_estimators=150; total time=   0.4s\n",
      "[CV] END max_depth=None, min_samples_leaf=1, min_samples_split=2, n_estimators=150; total time=   0.4s\n",
      "[CV] END max_depth=None, min_samples_leaf=1, min_samples_split=2, n_estimators=150; total time=   0.3s\n",
      "[CV] END max_depth=None, min_samples_leaf=1, min_samples_split=2, n_estimators=150; total time=   0.3s\n",
      "[CV] END max_depth=None, min_samples_leaf=1, min_samples_split=2, n_estimators=160; total time=   0.3s\n",
      "[CV] END max_depth=None, min_samples_leaf=1, min_samples_split=2, n_estimators=160; total time=   0.3s\n",
      "[CV] END max_depth=None, min_samples_leaf=1, min_samples_split=2, n_estimators=160; total time=   0.3s\n",
      "[CV] END max_depth=None, min_samples_leaf=1, min_samples_split=2, n_estimators=160; total time=   0.4s\n",
      "[CV] END max_depth=None, min_samples_leaf=1, min_samples_split=2, n_estimators=160; total time=   0.3s\n",
      "[CV] END max_depth=None, min_samples_leaf=1, min_samples_split=3, n_estimators=100; total time=   0.1s\n",
      "[CV] END max_depth=None, min_samples_leaf=1, min_samples_split=3, n_estimators=100; total time=   0.2s\n",
      "[CV] END max_depth=None, min_samples_leaf=1, min_samples_split=3, n_estimators=100; total time=   0.3s\n",
      "[CV] END max_depth=None, min_samples_leaf=1, min_samples_split=3, n_estimators=100; total time=   0.1s\n",
      "[CV] END max_depth=None, min_samples_leaf=1, min_samples_split=3, n_estimators=100; total time=   0.1s\n",
      "[CV] END max_depth=None, min_samples_leaf=1, min_samples_split=3, n_estimators=120; total time=   0.3s\n",
      "[CV] END max_depth=None, min_samples_leaf=1, min_samples_split=3, n_estimators=120; total time=   0.3s\n",
      "[CV] END max_depth=None, min_samples_leaf=1, min_samples_split=3, n_estimators=120; total time=   0.2s\n",
      "[CV] END max_depth=None, min_samples_leaf=1, min_samples_split=3, n_estimators=120; total time=   0.4s\n",
      "[CV] END max_depth=None, min_samples_leaf=1, min_samples_split=3, n_estimators=120; total time=   0.3s\n",
      "[CV] END max_depth=None, min_samples_leaf=1, min_samples_split=3, n_estimators=130; total time=   0.3s\n",
      "[CV] END max_depth=None, min_samples_leaf=1, min_samples_split=3, n_estimators=130; total time=   0.2s\n",
      "[CV] END max_depth=None, min_samples_leaf=1, min_samples_split=3, n_estimators=130; total time=   0.3s\n",
      "[CV] END max_depth=None, min_samples_leaf=1, min_samples_split=3, n_estimators=130; total time=   0.4s\n",
      "[CV] END max_depth=None, min_samples_leaf=1, min_samples_split=3, n_estimators=130; total time=   0.2s\n",
      "[CV] END max_depth=None, min_samples_leaf=1, min_samples_split=3, n_estimators=140; total time=   0.3s\n",
      "[CV] END max_depth=None, min_samples_leaf=1, min_samples_split=3, n_estimators=140; total time=   0.4s\n",
      "[CV] END max_depth=None, min_samples_leaf=1, min_samples_split=3, n_estimators=140; total time=   0.3s\n",
      "[CV] END max_depth=None, min_samples_leaf=1, min_samples_split=3, n_estimators=140; total time=   0.3s\n",
      "[CV] END max_depth=None, min_samples_leaf=1, min_samples_split=3, n_estimators=140; total time=   0.3s\n",
      "[CV] END max_depth=None, min_samples_leaf=1, min_samples_split=3, n_estimators=150; total time=   0.4s\n",
      "[CV] END max_depth=None, min_samples_leaf=1, min_samples_split=3, n_estimators=150; total time=   0.2s\n",
      "[CV] END max_depth=None, min_samples_leaf=1, min_samples_split=3, n_estimators=150; total time=   0.4s\n",
      "[CV] END max_depth=None, min_samples_leaf=1, min_samples_split=3, n_estimators=150; total time=   0.3s\n",
      "[CV] END max_depth=None, min_samples_leaf=1, min_samples_split=3, n_estimators=150; total time=   0.3s\n",
      "[CV] END max_depth=None, min_samples_leaf=1, min_samples_split=3, n_estimators=160; total time=   0.3s\n",
      "[CV] END max_depth=None, min_samples_leaf=1, min_samples_split=3, n_estimators=160; total time=   0.5s\n",
      "[CV] END max_depth=None, min_samples_leaf=1, min_samples_split=3, n_estimators=160; total time=   0.3s\n",
      "[CV] END max_depth=None, min_samples_leaf=1, min_samples_split=3, n_estimators=160; total time=   0.5s\n",
      "[CV] END max_depth=None, min_samples_leaf=1, min_samples_split=3, n_estimators=160; total time=   0.4s\n",
      "{'max_depth': None, 'min_samples_leaf': 1, 'min_samples_split': 3, 'n_estimators': 150}\n",
      "              precision    recall  f1-score   support\n",
      "\n",
      "           0       0.97      1.00      0.99        72\n",
      "           1       1.00      0.98      0.99        82\n",
      "\n",
      "    accuracy                           0.99       154\n",
      "   macro avg       0.99      0.99      0.99       154\n",
      "weighted avg       0.99      0.99      0.99       154\n",
      "\n"
     ]
    },
    {
     "name": "stdout",
     "output_type": "stream",
     "text": [
      "<sklearn.metrics._plot.confusion_matrix.ConfusionMatrixDisplay object at 0x000001EA454316A0>\n"
     ]
    },
    {
     "data": {
      "image/png": "[encoded data removed]",
      "text/plain": [
       "<Figure size 432x288 with 2 Axes>"
      ]
     },
     "metadata": {
      "needs_background": "light"
     },
     "output_type": "display_data"
    }
   ],
   "source": [
    "model = RandomForestClassifier()\n",
    "\n",
    "param = {'n_estimators':[100,120,130,140,150,160],\n",
    "    'max_depth':[3,4,5,None],\n",
    "    'min_samples_split':[2,3],\n",
    "    'min_samples_leaf':[1]}\n",
    "\n",
    "gridModel = GridSearchCV(model,param_grid=param,scoring='accuracy',cv=5,verbose=2)\n",
    "trainModelGrid(gridModel,X_train_scaled,X_test_scaled,y_train,y_test)"
   ]
  },
  {
   "cell_type": "code",
   "execution_count": 21,
   "id": "67c4535c",
   "metadata": {},
   "outputs": [
    {
     "name": "stdout",
     "output_type": "stream",
     "text": [
      "              precision    recall  f1-score   support\n",
      "\n",
      "           0       1.00      0.99      0.99        72\n",
      "           1       0.99      1.00      0.99        82\n",
      "\n",
      "    accuracy                           0.99       154\n",
      "   macro avg       0.99      0.99      0.99       154\n",
      "weighted avg       0.99      0.99      0.99       154\n",
      "\n",
      "[[71  1]\n",
      " [ 0 82]]\n"
     ]
    }
   ],
   "source": [
    "model = RandomForestClassifier(n_estimators=120)\n",
    "model.fit(X_train_scaled,y_train)\n",
    "prob = model.predict_proba(X_test_scaled)[:,1]\n",
    "y_pred = np.where(prob >=0.4,1,0) # Choosing custom thresold\n",
    "print(classification_report(y_test,y_pred))\n",
    "print(confusion_matrix(y_test,y_pred))"
   ]
  },
  {
   "cell_type": "markdown",
   "id": "e85092f4",
   "metadata": {},
   "source": [
    "### Adaboost"
   ]
  },
  {
   "cell_type": "code",
   "execution_count": 22,
   "id": "2dff6291",
   "metadata": {},
   "outputs": [
    {
     "name": "stdout",
     "output_type": "stream",
     "text": [
      "              precision    recall  f1-score   support\n",
      "\n",
      "           0       0.86      0.93      0.89        72\n",
      "           1       0.93      0.87      0.90        82\n",
      "\n",
      "    accuracy                           0.90       154\n",
      "   macro avg       0.90      0.90      0.90       154\n",
      "weighted avg       0.90      0.90      0.90       154\n",
      "\n",
      "<sklearn.metrics._plot.confusion_matrix.ConfusionMatrixDisplay object at 0x000001EA45E4B4F0>\n",
      "<sklearn.metrics._plot.roc_curve.RocCurveDisplay object at 0x000001EA45EC1F40>\n"
     ]
    },
    {
     "data": {
      "image/png": "[encoded data removed]",
      "text/plain": [
       "<Figure size 432x288 with 2 Axes>"
      ]
     },
     "metadata": {
      "needs_background": "light"
     },
     "output_type": "display_data"
    },
    {
     "data": {
      "image/png": "[encoded data removed]",
      "text/plain": [
       "<Figure size 432x288 with 1 Axes>"
      ]
     },
     "metadata": {
      "needs_background": "light"
     },
     "output_type": "display_data"
    }
   ],
   "source": [
    "model = AdaBoostClassifier()\n",
    "trainModel(model,X_train_scaled,X_test_scaled,y_train,y_test)"
   ]
  },
  {
   "cell_type": "code",
   "execution_count": 23,
   "id": "c4e536c9",
   "metadata": {},
   "outputs": [
    {
     "name": "stdout",
     "output_type": "stream",
     "text": [
      "Fitting 5 folds for each of 24 candidates, totalling 120 fits\n",
      "[CV] END ................learning_rate=1.0, n_estimators=100; total time=   0.4s\n",
      "[CV] END ................learning_rate=1.0, n_estimators=100; total time=   0.3s\n",
      "[CV] END ................learning_rate=1.0, n_estimators=100; total time=   0.4s\n",
      "[CV] END ................learning_rate=1.0, n_estimators=100; total time=   0.2s\n",
      "[CV] END ................learning_rate=1.0, n_estimators=100; total time=   0.4s\n",
      "[CV] END ................learning_rate=1.0, n_estimators=120; total time=   0.4s\n",
      "[CV] END ................learning_rate=1.0, n_estimators=120; total time=   0.3s\n",
      "[CV] END ................learning_rate=1.0, n_estimators=120; total time=   0.3s\n",
      "[CV] END ................learning_rate=1.0, n_estimators=120; total time=   0.3s\n",
      "[CV] END ................learning_rate=1.0, n_estimators=120; total time=   0.3s\n",
      "[CV] END ................learning_rate=1.0, n_estimators=130; total time=   0.3s\n",
      "[CV] END ................learning_rate=1.0, n_estimators=130; total time=   0.5s\n",
      "[CV] END ................learning_rate=1.0, n_estimators=130; total time=   0.3s\n",
      "[CV] END ................learning_rate=1.0, n_estimators=130; total time=   0.4s\n",
      "[CV] END ................learning_rate=1.0, n_estimators=130; total time=   0.3s\n",
      "[CV] END ................learning_rate=1.0, n_estimators=140; total time=   0.4s\n",
      "[CV] END ................learning_rate=1.0, n_estimators=140; total time=   0.5s\n",
      "[CV] END ................learning_rate=1.0, n_estimators=140; total time=   0.5s\n",
      "[CV] END ................learning_rate=1.0, n_estimators=140; total time=   0.2s\n",
      "[CV] END ................learning_rate=1.0, n_estimators=140; total time=   0.3s\n",
      "[CV] END ................learning_rate=1.0, n_estimators=150; total time=   0.4s\n",
      "[CV] END ................learning_rate=1.0, n_estimators=150; total time=   0.3s\n",
      "[CV] END ................learning_rate=1.0, n_estimators=150; total time=   0.3s\n",
      "[CV] END ................learning_rate=1.0, n_estimators=150; total time=   0.4s\n",
      "[CV] END ................learning_rate=1.0, n_estimators=150; total time=   0.4s\n",
      "[CV] END ................learning_rate=1.0, n_estimators=160; total time=   0.3s\n",
      "[CV] END ................learning_rate=1.0, n_estimators=160; total time=   0.5s\n",
      "[CV] END ................learning_rate=1.0, n_estimators=160; total time=   0.3s\n",
      "[CV] END ................learning_rate=1.0, n_estimators=160; total time=   0.4s\n",
      "[CV] END ................learning_rate=1.0, n_estimators=160; total time=   0.4s\n",
      "[CV] END ..................learning_rate=2, n_estimators=100; total time=   0.3s\n",
      "[CV] END ..................learning_rate=2, n_estimators=100; total time=   0.3s\n",
      "[CV] END ..................learning_rate=2, n_estimators=100; total time=   0.4s\n",
      "[CV] END ..................learning_rate=2, n_estimators=100; total time=   0.3s\n",
      "[CV] END ..................learning_rate=2, n_estimators=100; total time=   0.2s\n",
      "[CV] END ..................learning_rate=2, n_estimators=120; total time=   0.5s\n",
      "[CV] END ..................learning_rate=2, n_estimators=120; total time=   0.2s\n",
      "[CV] END ..................learning_rate=2, n_estimators=120; total time=   0.2s\n",
      "[CV] END ..................learning_rate=2, n_estimators=120; total time=   0.3s\n",
      "[CV] END ..................learning_rate=2, n_estimators=120; total time=   0.3s\n",
      "[CV] END ..................learning_rate=2, n_estimators=130; total time=   0.3s\n",
      "[CV] END ..................learning_rate=2, n_estimators=130; total time=   0.3s\n",
      "[CV] END ..................learning_rate=2, n_estimators=130; total time=   0.3s\n",
      "[CV] END ..................learning_rate=2, n_estimators=130; total time=   0.3s\n",
      "[CV] END ..................learning_rate=2, n_estimators=130; total time=   0.2s\n",
      "[CV] END ..................learning_rate=2, n_estimators=140; total time=   0.3s\n",
      "[CV] END ..................learning_rate=2, n_estimators=140; total time=   0.5s\n",
      "[CV] END ..................learning_rate=2, n_estimators=140; total time=   0.3s\n",
      "[CV] END ..................learning_rate=2, n_estimators=140; total time=   0.3s\n",
      "[CV] END ..................learning_rate=2, n_estimators=140; total time=   0.4s\n",
      "[CV] END ..................learning_rate=2, n_estimators=150; total time=   0.4s\n",
      "[CV] END ..................learning_rate=2, n_estimators=150; total time=   0.3s\n",
      "[CV] END ..................learning_rate=2, n_estimators=150; total time=   0.5s\n",
      "[CV] END ..................learning_rate=2, n_estimators=150; total time=   0.3s\n",
      "[CV] END ..................learning_rate=2, n_estimators=150; total time=   0.4s\n",
      "[CV] END ..................learning_rate=2, n_estimators=160; total time=   0.4s\n",
      "[CV] END ..................learning_rate=2, n_estimators=160; total time=   0.4s\n",
      "[CV] END ..................learning_rate=2, n_estimators=160; total time=   0.5s\n",
      "[CV] END ..................learning_rate=2, n_estimators=160; total time=   0.4s\n",
      "[CV] END ..................learning_rate=2, n_estimators=160; total time=   0.3s\n",
      "[CV] END ................learning_rate=0.5, n_estimators=100; total time=   0.3s\n",
      "[CV] END ................learning_rate=0.5, n_estimators=100; total time=   0.2s\n",
      "[CV] END ................learning_rate=0.5, n_estimators=100; total time=   0.2s\n",
      "[CV] END ................learning_rate=0.5, n_estimators=100; total time=   0.2s\n",
      "[CV] END ................learning_rate=0.5, n_estimators=100; total time=   0.2s\n",
      "[CV] END ................learning_rate=0.5, n_estimators=120; total time=   0.2s\n",
      "[CV] END ................learning_rate=0.5, n_estimators=120; total time=   0.3s\n",
      "[CV] END ................learning_rate=0.5, n_estimators=120; total time=   0.3s\n",
      "[CV] END ................learning_rate=0.5, n_estimators=120; total time=   0.3s\n",
      "[CV] END ................learning_rate=0.5, n_estimators=120; total time=   0.3s\n",
      "[CV] END ................learning_rate=0.5, n_estimators=130; total time=   0.2s\n",
      "[CV] END ................learning_rate=0.5, n_estimators=130; total time=   0.3s\n",
      "[CV] END ................learning_rate=0.5, n_estimators=130; total time=   0.4s\n",
      "[CV] END ................learning_rate=0.5, n_estimators=130; total time=   0.3s\n",
      "[CV] END ................learning_rate=0.5, n_estimators=130; total time=   0.3s\n",
      "[CV] END ................learning_rate=0.5, n_estimators=140; total time=   0.3s\n",
      "[CV] END ................learning_rate=0.5, n_estimators=140; total time=   0.4s\n",
      "[CV] END ................learning_rate=0.5, n_estimators=140; total time=   0.3s\n",
      "[CV] END ................learning_rate=0.5, n_estimators=140; total time=   0.5s\n",
      "[CV] END ................learning_rate=0.5, n_estimators=140; total time=   0.3s\n",
      "[CV] END ................learning_rate=0.5, n_estimators=150; total time=   0.3s\n",
      "[CV] END ................learning_rate=0.5, n_estimators=150; total time=   0.3s\n",
      "[CV] END ................learning_rate=0.5, n_estimators=150; total time=   0.3s\n",
      "[CV] END ................learning_rate=0.5, n_estimators=150; total time=   0.3s\n",
      "[CV] END ................learning_rate=0.5, n_estimators=150; total time=   0.4s\n",
      "[CV] END ................learning_rate=0.5, n_estimators=160; total time=   0.3s\n",
      "[CV] END ................learning_rate=0.5, n_estimators=160; total time=   0.4s\n",
      "[CV] END ................learning_rate=0.5, n_estimators=160; total time=   0.4s\n",
      "[CV] END ................learning_rate=0.5, n_estimators=160; total time=   0.4s\n",
      "[CV] END ................learning_rate=0.5, n_estimators=160; total time=   0.4s\n",
      "[CV] END ................learning_rate=0.6, n_estimators=100; total time=   0.2s\n",
      "[CV] END ................learning_rate=0.6, n_estimators=100; total time=   0.2s\n",
      "[CV] END ................learning_rate=0.6, n_estimators=100; total time=   0.2s\n",
      "[CV] END ................learning_rate=0.6, n_estimators=100; total time=   0.1s\n",
      "[CV] END ................learning_rate=0.6, n_estimators=100; total time=   0.2s\n",
      "[CV] END ................learning_rate=0.6, n_estimators=120; total time=   0.3s\n",
      "[CV] END ................learning_rate=0.6, n_estimators=120; total time=   0.2s\n",
      "[CV] END ................learning_rate=0.6, n_estimators=120; total time=   0.3s\n",
      "[CV] END ................learning_rate=0.6, n_estimators=120; total time=   0.3s\n",
      "[CV] END ................learning_rate=0.6, n_estimators=120; total time=   0.3s\n",
      "[CV] END ................learning_rate=0.6, n_estimators=130; total time=   0.3s\n"
     ]
    },
    {
     "name": "stdout",
     "output_type": "stream",
     "text": [
      "[CV] END ................learning_rate=0.6, n_estimators=130; total time=   0.2s\n",
      "[CV] END ................learning_rate=0.6, n_estimators=130; total time=   0.4s\n",
      "[CV] END ................learning_rate=0.6, n_estimators=130; total time=   0.3s\n",
      "[CV] END ................learning_rate=0.6, n_estimators=130; total time=   0.3s\n",
      "[CV] END ................learning_rate=0.6, n_estimators=140; total time=   0.5s\n",
      "[CV] END ................learning_rate=0.6, n_estimators=140; total time=   0.2s\n",
      "[CV] END ................learning_rate=0.6, n_estimators=140; total time=   0.3s\n",
      "[CV] END ................learning_rate=0.6, n_estimators=140; total time=   0.3s\n",
      "[CV] END ................learning_rate=0.6, n_estimators=140; total time=   0.3s\n",
      "[CV] END ................learning_rate=0.6, n_estimators=150; total time=   0.3s\n",
      "[CV] END ................learning_rate=0.6, n_estimators=150; total time=   0.6s\n",
      "[CV] END ................learning_rate=0.6, n_estimators=150; total time=   0.3s\n",
      "[CV] END ................learning_rate=0.6, n_estimators=150; total time=   0.4s\n",
      "[CV] END ................learning_rate=0.6, n_estimators=150; total time=   0.5s\n",
      "[CV] END ................learning_rate=0.6, n_estimators=160; total time=   0.5s\n",
      "[CV] END ................learning_rate=0.6, n_estimators=160; total time=   0.5s\n",
      "[CV] END ................learning_rate=0.6, n_estimators=160; total time=   0.4s\n",
      "[CV] END ................learning_rate=0.6, n_estimators=160; total time=   0.4s\n",
      "[CV] END ................learning_rate=0.6, n_estimators=160; total time=   0.4s\n",
      "{'learning_rate': 1.0, 'n_estimators': 100}\n",
      "              precision    recall  f1-score   support\n",
      "\n",
      "           0       0.87      0.90      0.88        72\n",
      "           1       0.91      0.88      0.89        82\n",
      "\n",
      "    accuracy                           0.89       154\n",
      "   macro avg       0.89      0.89      0.89       154\n",
      "weighted avg       0.89      0.89      0.89       154\n",
      "\n",
      "<sklearn.metrics._plot.confusion_matrix.ConfusionMatrixDisplay object at 0x000001EA452858B0>\n"
     ]
    },
    {
     "data": {
      "image/png": "[encoded data removed]",
      "text/plain": [
       "<Figure size 432x288 with 2 Axes>"
      ]
     },
     "metadata": {
      "needs_background": "light"
     },
     "output_type": "display_data"
    }
   ],
   "source": [
    "model = AdaBoostClassifier()\n",
    "\n",
    "param = {'n_estimators':[100,120,130,140,150,160],\n",
    "       'learning_rate':[1.0,2,0.5,0.6]}\n",
    "\n",
    "gridModel = GridSearchCV(model,param_grid=param,scoring='accuracy',cv=5,verbose=2)\n",
    "trainModelGrid(gridModel,X_train_scaled,X_test_scaled,y_train,y_test)"
   ]
  },
  {
   "cell_type": "code",
   "execution_count": 24,
   "id": "deff99c4",
   "metadata": {},
   "outputs": [
    {
     "name": "stdout",
     "output_type": "stream",
     "text": [
      "              precision    recall  f1-score   support\n",
      "\n",
      "           0       0.87      0.90      0.88        72\n",
      "           1       0.91      0.88      0.89        82\n",
      "\n",
      "    accuracy                           0.89       154\n",
      "   macro avg       0.89      0.89      0.89       154\n",
      "weighted avg       0.89      0.89      0.89       154\n",
      "\n",
      "[[65  7]\n",
      " [10 72]]\n"
     ]
    }
   ],
   "source": [
    "model = AdaBoostClassifier(n_estimators=100)\n",
    "model.fit(X_train_scaled,y_train)\n",
    "prob = model.predict_proba(X_test_scaled)[:,1]\n",
    "y_pred = np.where(prob >=0.5,1,0) # Choosing custom thresold\n",
    "print(classification_report(y_test,y_pred))\n",
    "print(confusion_matrix(y_test,y_pred))"
   ]
  },
  {
   "cell_type": "markdown",
   "id": "11233cc1",
   "metadata": {},
   "source": [
    "### Gradient Boost"
   ]
  },
  {
   "cell_type": "code",
   "execution_count": 25,
   "id": "fed15a66",
   "metadata": {},
   "outputs": [
    {
     "name": "stdout",
     "output_type": "stream",
     "text": [
      "              precision    recall  f1-score   support\n",
      "\n",
      "           0       0.96      0.93      0.94        72\n",
      "           1       0.94      0.96      0.95        82\n",
      "\n",
      "    accuracy                           0.95       154\n",
      "   macro avg       0.95      0.95      0.95       154\n",
      "weighted avg       0.95      0.95      0.95       154\n",
      "\n",
      "<sklearn.metrics._plot.confusion_matrix.ConfusionMatrixDisplay object at 0x000001EA44B448B0>\n",
      "<sklearn.metrics._plot.roc_curve.RocCurveDisplay object at 0x000001EA455304F0>\n"
     ]
    },
    {
     "data": {
      "image/png": "[encoded data removed]",
      "text/plain": [
       "<Figure size 432x288 with 2 Axes>"
      ]
     },
     "metadata": {
      "needs_background": "light"
     },
     "output_type": "display_data"
    },
    {
     "data": {
      "image/png": "[encoded data removed]",
      "text/plain": [
       "<Figure size 432x288 with 1 Axes>"
      ]
     },
     "metadata": {
      "needs_background": "light"
     },
     "output_type": "display_data"
    }
   ],
   "source": [
    "model = GradientBoostingClassifier()\n",
    "trainModel(model,X_train_scaled,X_test_scaled,y_train,y_test)"
   ]
  },
  {
   "cell_type": "code",
   "execution_count": 26,
   "id": "e3fb020d",
   "metadata": {},
   "outputs": [
    {
     "name": "stdout",
     "output_type": "stream",
     "text": [
      "Fitting 5 folds for each of 36 candidates, totalling 180 fits\n",
      "[CV] END ................learning_rate=1.0, n_estimators=100; total time=   0.1s\n",
      "[CV] END ................learning_rate=1.0, n_estimators=100; total time=   0.2s\n",
      "[CV] END ................learning_rate=1.0, n_estimators=100; total time=   0.1s\n",
      "[CV] END ................learning_rate=1.0, n_estimators=100; total time=   0.1s\n",
      "[CV] END ................learning_rate=1.0, n_estimators=100; total time=   0.1s\n",
      "[CV] END ................learning_rate=1.0, n_estimators=120; total time=   0.2s\n",
      "[CV] END ................learning_rate=1.0, n_estimators=120; total time=   0.2s\n",
      "[CV] END ................learning_rate=1.0, n_estimators=120; total time=   0.1s\n",
      "[CV] END ................learning_rate=1.0, n_estimators=120; total time=   0.1s\n",
      "[CV] END ................learning_rate=1.0, n_estimators=120; total time=   0.2s\n",
      "[CV] END ................learning_rate=1.0, n_estimators=130; total time=   0.2s\n",
      "[CV] END ................learning_rate=1.0, n_estimators=130; total time=   0.1s\n",
      "[CV] END ................learning_rate=1.0, n_estimators=130; total time=   0.2s\n",
      "[CV] END ................learning_rate=1.0, n_estimators=130; total time=   0.2s\n",
      "[CV] END ................learning_rate=1.0, n_estimators=130; total time=   0.2s\n",
      "[CV] END ................learning_rate=1.0, n_estimators=140; total time=   0.1s\n",
      "[CV] END ................learning_rate=1.0, n_estimators=140; total time=   0.1s\n",
      "[CV] END ................learning_rate=1.0, n_estimators=140; total time=   0.2s\n",
      "[CV] END ................learning_rate=1.0, n_estimators=140; total time=   0.2s\n",
      "[CV] END ................learning_rate=1.0, n_estimators=140; total time=   0.1s\n",
      "[CV] END ................learning_rate=1.0, n_estimators=150; total time=   0.2s\n",
      "[CV] END ................learning_rate=1.0, n_estimators=150; total time=   0.2s\n",
      "[CV] END ................learning_rate=1.0, n_estimators=150; total time=   0.2s\n",
      "[CV] END ................learning_rate=1.0, n_estimators=150; total time=   0.2s\n",
      "[CV] END ................learning_rate=1.0, n_estimators=150; total time=   0.2s\n",
      "[CV] END ................learning_rate=1.0, n_estimators=160; total time=   0.2s\n",
      "[CV] END ................learning_rate=1.0, n_estimators=160; total time=   0.2s\n",
      "[CV] END ................learning_rate=1.0, n_estimators=160; total time=   0.3s\n",
      "[CV] END ................learning_rate=1.0, n_estimators=160; total time=   0.2s\n",
      "[CV] END ................learning_rate=1.0, n_estimators=160; total time=   0.2s\n",
      "[CV] END ..................learning_rate=2, n_estimators=100; total time=   0.1s\n",
      "[CV] END ..................learning_rate=2, n_estimators=100; total time=   0.1s\n",
      "[CV] END ..................learning_rate=2, n_estimators=100; total time=   0.2s\n",
      "[CV] END ..................learning_rate=2, n_estimators=100; total time=   0.0s\n",
      "[CV] END ..................learning_rate=2, n_estimators=100; total time=   0.1s\n",
      "[CV] END ..................learning_rate=2, n_estimators=120; total time=   0.1s\n",
      "[CV] END ..................learning_rate=2, n_estimators=120; total time=   0.1s\n",
      "[CV] END ..................learning_rate=2, n_estimators=120; total time=   0.1s\n",
      "[CV] END ..................learning_rate=2, n_estimators=120; total time=   0.2s\n",
      "[CV] END ..................learning_rate=2, n_estimators=120; total time=   0.2s\n",
      "[CV] END ..................learning_rate=2, n_estimators=130; total time=   0.2s\n",
      "[CV] END ..................learning_rate=2, n_estimators=130; total time=   0.1s\n",
      "[CV] END ..................learning_rate=2, n_estimators=130; total time=   0.1s\n",
      "[CV] END ..................learning_rate=2, n_estimators=130; total time=   0.2s\n",
      "[CV] END ..................learning_rate=2, n_estimators=130; total time=   0.2s\n",
      "[CV] END ..................learning_rate=2, n_estimators=140; total time=   0.1s\n",
      "[CV] END ..................learning_rate=2, n_estimators=140; total time=   0.1s\n",
      "[CV] END ..................learning_rate=2, n_estimators=140; total time=   0.2s\n",
      "[CV] END ..................learning_rate=2, n_estimators=140; total time=   0.2s\n",
      "[CV] END ..................learning_rate=2, n_estimators=140; total time=   0.2s\n",
      "[CV] END ..................learning_rate=2, n_estimators=150; total time=   0.2s\n",
      "[CV] END ..................learning_rate=2, n_estimators=150; total time=   0.2s\n",
      "[CV] END ..................learning_rate=2, n_estimators=150; total time=   0.2s\n",
      "[CV] END ..................learning_rate=2, n_estimators=150; total time=   0.2s\n",
      "[CV] END ..................learning_rate=2, n_estimators=150; total time=   0.2s\n",
      "[CV] END ..................learning_rate=2, n_estimators=160; total time=   0.2s\n",
      "[CV] END ..................learning_rate=2, n_estimators=160; total time=   0.2s\n",
      "[CV] END ..................learning_rate=2, n_estimators=160; total time=   0.3s\n",
      "[CV] END ..................learning_rate=2, n_estimators=160; total time=   0.3s\n",
      "[CV] END ..................learning_rate=2, n_estimators=160; total time=   0.2s\n",
      "[CV] END ................learning_rate=0.5, n_estimators=100; total time=   0.1s\n",
      "[CV] END ................learning_rate=0.5, n_estimators=100; total time=   0.1s\n",
      "[CV] END ................learning_rate=0.5, n_estimators=100; total time=   0.1s\n",
      "[CV] END ................learning_rate=0.5, n_estimators=100; total time=   0.1s\n",
      "[CV] END ................learning_rate=0.5, n_estimators=100; total time=   0.1s\n",
      "[CV] END ................learning_rate=0.5, n_estimators=120; total time=   0.1s\n",
      "[CV] END ................learning_rate=0.5, n_estimators=120; total time=   0.1s\n",
      "[CV] END ................learning_rate=0.5, n_estimators=120; total time=   0.1s\n",
      "[CV] END ................learning_rate=0.5, n_estimators=120; total time=   0.1s\n",
      "[CV] END ................learning_rate=0.5, n_estimators=120; total time=   0.2s\n",
      "[CV] END ................learning_rate=0.5, n_estimators=130; total time=   0.2s\n",
      "[CV] END ................learning_rate=0.5, n_estimators=130; total time=   0.1s\n",
      "[CV] END ................learning_rate=0.5, n_estimators=130; total time=   0.1s\n",
      "[CV] END ................learning_rate=0.5, n_estimators=130; total time=   0.1s\n",
      "[CV] END ................learning_rate=0.5, n_estimators=130; total time=   0.2s\n",
      "[CV] END ................learning_rate=0.5, n_estimators=140; total time=   0.2s\n",
      "[CV] END ................learning_rate=0.5, n_estimators=140; total time=   0.1s\n",
      "[CV] END ................learning_rate=0.5, n_estimators=140; total time=   0.2s\n",
      "[CV] END ................learning_rate=0.5, n_estimators=140; total time=   0.2s\n",
      "[CV] END ................learning_rate=0.5, n_estimators=140; total time=   0.2s\n",
      "[CV] END ................learning_rate=0.5, n_estimators=150; total time=   0.2s\n",
      "[CV] END ................learning_rate=0.5, n_estimators=150; total time=   0.2s\n",
      "[CV] END ................learning_rate=0.5, n_estimators=150; total time=   0.2s\n",
      "[CV] END ................learning_rate=0.5, n_estimators=150; total time=   0.1s\n",
      "[CV] END ................learning_rate=0.5, n_estimators=150; total time=   0.2s\n",
      "[CV] END ................learning_rate=0.5, n_estimators=160; total time=   0.2s\n",
      "[CV] END ................learning_rate=0.5, n_estimators=160; total time=   0.2s\n",
      "[CV] END ................learning_rate=0.5, n_estimators=160; total time=   0.2s\n",
      "[CV] END ................learning_rate=0.5, n_estimators=160; total time=   0.3s\n",
      "[CV] END ................learning_rate=0.5, n_estimators=160; total time=   0.2s\n",
      "[CV] END ................learning_rate=0.6, n_estimators=100; total time=   0.0s\n",
      "[CV] END ................learning_rate=0.6, n_estimators=100; total time=   0.1s\n",
      "[CV] END ................learning_rate=0.6, n_estimators=100; total time=   0.1s\n",
      "[CV] END ................learning_rate=0.6, n_estimators=100; total time=   0.1s\n",
      "[CV] END ................learning_rate=0.6, n_estimators=100; total time=   0.1s\n",
      "[CV] END ................learning_rate=0.6, n_estimators=120; total time=   0.2s\n",
      "[CV] END ................learning_rate=0.6, n_estimators=120; total time=   0.2s\n",
      "[CV] END ................learning_rate=0.6, n_estimators=120; total time=   0.2s\n",
      "[CV] END ................learning_rate=0.6, n_estimators=120; total time=   0.1s\n",
      "[CV] END ................learning_rate=0.6, n_estimators=120; total time=   0.2s\n",
      "[CV] END ................learning_rate=0.6, n_estimators=130; total time=   0.2s\n"
     ]
    },
    {
     "name": "stdout",
     "output_type": "stream",
     "text": [
      "[CV] END ................learning_rate=0.6, n_estimators=130; total time=   0.2s\n",
      "[CV] END ................learning_rate=0.6, n_estimators=130; total time=   0.2s\n",
      "[CV] END ................learning_rate=0.6, n_estimators=130; total time=   0.2s\n",
      "[CV] END ................learning_rate=0.6, n_estimators=130; total time=   0.2s\n",
      "[CV] END ................learning_rate=0.6, n_estimators=140; total time=   0.2s\n",
      "[CV] END ................learning_rate=0.6, n_estimators=140; total time=   0.2s\n",
      "[CV] END ................learning_rate=0.6, n_estimators=140; total time=   0.2s\n",
      "[CV] END ................learning_rate=0.6, n_estimators=140; total time=   0.2s\n",
      "[CV] END ................learning_rate=0.6, n_estimators=140; total time=   0.2s\n",
      "[CV] END ................learning_rate=0.6, n_estimators=150; total time=   0.2s\n",
      "[CV] END ................learning_rate=0.6, n_estimators=150; total time=   0.2s\n",
      "[CV] END ................learning_rate=0.6, n_estimators=150; total time=   0.3s\n",
      "[CV] END ................learning_rate=0.6, n_estimators=150; total time=   0.3s\n",
      "[CV] END ................learning_rate=0.6, n_estimators=150; total time=   0.2s\n",
      "[CV] END ................learning_rate=0.6, n_estimators=160; total time=   0.2s\n",
      "[CV] END ................learning_rate=0.6, n_estimators=160; total time=   0.3s\n",
      "[CV] END ................learning_rate=0.6, n_estimators=160; total time=   0.2s\n",
      "[CV] END ................learning_rate=0.6, n_estimators=160; total time=   0.3s\n",
      "[CV] END ................learning_rate=0.6, n_estimators=160; total time=   0.3s\n",
      "[CV] END ................learning_rate=0.8, n_estimators=100; total time=   0.1s\n",
      "[CV] END ................learning_rate=0.8, n_estimators=100; total time=   0.1s\n",
      "[CV] END ................learning_rate=0.8, n_estimators=100; total time=   0.2s\n",
      "[CV] END ................learning_rate=0.8, n_estimators=100; total time=   0.1s\n",
      "[CV] END ................learning_rate=0.8, n_estimators=100; total time=   0.1s\n",
      "[CV] END ................learning_rate=0.8, n_estimators=120; total time=   0.1s\n",
      "[CV] END ................learning_rate=0.8, n_estimators=120; total time=   0.2s\n",
      "[CV] END ................learning_rate=0.8, n_estimators=120; total time=   0.2s\n",
      "[CV] END ................learning_rate=0.8, n_estimators=120; total time=   0.2s\n",
      "[CV] END ................learning_rate=0.8, n_estimators=120; total time=   0.1s\n",
      "[CV] END ................learning_rate=0.8, n_estimators=130; total time=   0.3s\n",
      "[CV] END ................learning_rate=0.8, n_estimators=130; total time=   0.2s\n",
      "[CV] END ................learning_rate=0.8, n_estimators=130; total time=   0.1s\n",
      "[CV] END ................learning_rate=0.8, n_estimators=130; total time=   0.2s\n",
      "[CV] END ................learning_rate=0.8, n_estimators=130; total time=   0.2s\n",
      "[CV] END ................learning_rate=0.8, n_estimators=140; total time=   0.2s\n",
      "[CV] END ................learning_rate=0.8, n_estimators=140; total time=   0.1s\n",
      "[CV] END ................learning_rate=0.8, n_estimators=140; total time=   0.2s\n",
      "[CV] END ................learning_rate=0.8, n_estimators=140; total time=   0.3s\n",
      "[CV] END ................learning_rate=0.8, n_estimators=140; total time=   0.1s\n",
      "[CV] END ................learning_rate=0.8, n_estimators=150; total time=   0.2s\n",
      "[CV] END ................learning_rate=0.8, n_estimators=150; total time=   0.3s\n",
      "[CV] END ................learning_rate=0.8, n_estimators=150; total time=   0.2s\n",
      "[CV] END ................learning_rate=0.8, n_estimators=150; total time=   0.2s\n",
      "[CV] END ................learning_rate=0.8, n_estimators=150; total time=   0.2s\n",
      "[CV] END ................learning_rate=0.8, n_estimators=160; total time=   0.2s\n",
      "[CV] END ................learning_rate=0.8, n_estimators=160; total time=   0.3s\n",
      "[CV] END ................learning_rate=0.8, n_estimators=160; total time=   0.3s\n",
      "[CV] END ................learning_rate=0.8, n_estimators=160; total time=   0.2s\n",
      "[CV] END ................learning_rate=0.8, n_estimators=160; total time=   0.2s\n",
      "[CV] END ................learning_rate=0.9, n_estimators=100; total time=   0.2s\n",
      "[CV] END ................learning_rate=0.9, n_estimators=100; total time=   0.2s\n",
      "[CV] END ................learning_rate=0.9, n_estimators=100; total time=   0.1s\n",
      "[CV] END ................learning_rate=0.9, n_estimators=100; total time=   0.1s\n",
      "[CV] END ................learning_rate=0.9, n_estimators=100; total time=   0.1s\n",
      "[CV] END ................learning_rate=0.9, n_estimators=120; total time=   0.2s\n",
      "[CV] END ................learning_rate=0.9, n_estimators=120; total time=   0.2s\n",
      "[CV] END ................learning_rate=0.9, n_estimators=120; total time=   0.1s\n",
      "[CV] END ................learning_rate=0.9, n_estimators=120; total time=   0.1s\n",
      "[CV] END ................learning_rate=0.9, n_estimators=120; total time=   0.2s\n",
      "[CV] END ................learning_rate=0.9, n_estimators=130; total time=   0.1s\n",
      "[CV] END ................learning_rate=0.9, n_estimators=130; total time=   0.2s\n",
      "[CV] END ................learning_rate=0.9, n_estimators=130; total time=   0.4s\n",
      "[CV] END ................learning_rate=0.9, n_estimators=130; total time=   0.1s\n",
      "[CV] END ................learning_rate=0.9, n_estimators=130; total time=   0.2s\n",
      "[CV] END ................learning_rate=0.9, n_estimators=140; total time=   0.2s\n",
      "[CV] END ................learning_rate=0.9, n_estimators=140; total time=   0.2s\n",
      "[CV] END ................learning_rate=0.9, n_estimators=140; total time=   0.2s\n",
      "[CV] END ................learning_rate=0.9, n_estimators=140; total time=   0.2s\n",
      "[CV] END ................learning_rate=0.9, n_estimators=140; total time=   0.2s\n",
      "[CV] END ................learning_rate=0.9, n_estimators=150; total time=   0.1s\n",
      "[CV] END ................learning_rate=0.9, n_estimators=150; total time=   0.2s\n",
      "[CV] END ................learning_rate=0.9, n_estimators=150; total time=   0.3s\n",
      "[CV] END ................learning_rate=0.9, n_estimators=150; total time=   0.2s\n",
      "[CV] END ................learning_rate=0.9, n_estimators=150; total time=   0.2s\n",
      "[CV] END ................learning_rate=0.9, n_estimators=160; total time=   0.2s\n",
      "[CV] END ................learning_rate=0.9, n_estimators=160; total time=   0.3s\n",
      "[CV] END ................learning_rate=0.9, n_estimators=160; total time=   0.2s\n",
      "[CV] END ................learning_rate=0.9, n_estimators=160; total time=   0.2s\n",
      "[CV] END ................learning_rate=0.9, n_estimators=160; total time=   0.3s\n",
      "{'learning_rate': 1.0, 'n_estimators': 160}\n",
      "              precision    recall  f1-score   support\n",
      "\n",
      "           0       0.99      1.00      0.99        72\n",
      "           1       1.00      0.99      0.99        82\n",
      "\n",
      "    accuracy                           0.99       154\n",
      "   macro avg       0.99      0.99      0.99       154\n",
      "weighted avg       0.99      0.99      0.99       154\n",
      "\n",
      "<sklearn.metrics._plot.confusion_matrix.ConfusionMatrixDisplay object at 0x000001EA45FF5040>\n"
     ]
    },
    {
     "data": {
      "image/png": "[encoded data removed]",
      "text/plain": [
       "<Figure size 432x288 with 2 Axes>"
      ]
     },
     "metadata": {
      "needs_background": "light"
     },
     "output_type": "display_data"
    }
   ],
   "source": [
    "model = GradientBoostingClassifier()\n",
    "\n",
    "param = {'n_estimators':[100,120,130,140,150,160],\n",
    "       'learning_rate':[1.0,2,0.5,0.6,0.8,0.9]}\n",
    "\n",
    "gridModel = GridSearchCV(model,param_grid=param,scoring='accuracy',cv=5,verbose=2)\n",
    "trainModelGrid(gridModel,X_train_scaled,X_test_scaled,y_train,y_test)"
   ]
  },
  {
   "cell_type": "code",
   "execution_count": 27,
   "id": "40f335e6",
   "metadata": {},
   "outputs": [
    {
     "name": "stdout",
     "output_type": "stream",
     "text": [
      "              precision    recall  f1-score   support\n",
      "\n",
      "           0       0.99      1.00      0.99        72\n",
      "           1       1.00      0.99      0.99        82\n",
      "\n",
      "    accuracy                           0.99       154\n",
      "   macro avg       0.99      0.99      0.99       154\n",
      "weighted avg       0.99      0.99      0.99       154\n",
      "\n",
      "[[72  0]\n",
      " [ 1 81]]\n"
     ]
    }
   ],
   "source": [
    "model = GradientBoostingClassifier(n_estimators=130,learning_rate=1)\n",
    "model.fit(X_train_scaled,y_train)\n",
    "prob = model.predict_proba(X_test_scaled)[:,1]\n",
    "y_pred = np.where(prob >=0.5,1,0) # Choosing custom thresold\n",
    "print(classification_report(y_test,y_pred))\n",
    "print(confusion_matrix(y_test,y_pred))"
   ]
  },
  {
   "cell_type": "markdown",
   "id": "3db89146",
   "metadata": {},
   "source": [
    "# Final Model Validate test and pipeline creation "
   ]
  },
  {
   "cell_type": "code",
   "execution_count": 22,
   "id": "28fda6d8",
   "metadata": {},
   "outputs": [],
   "source": [
    "# I have selected Random forest model --> \n",
    "  # Creating test pipe-line \n",
    "from sklearn.pipeline import Pipeline\n",
    "model = RandomForestClassifier(n_estimators=120)"
   ]
  },
  {
   "cell_type": "code",
   "execution_count": 24,
   "id": "fd033c7f",
   "metadata": {},
   "outputs": [
    {
     "data": {
      "text/plain": [
       "Pipeline(steps=[('scaler', StandardScaler()),\n",
       "                ('rf', RandomForestClassifier(n_estimators=120))])"
      ]
     },
     "execution_count": 24,
     "metadata": {},
     "output_type": "execute_result"
    }
   ],
   "source": [
    "pipe = Pipeline([('scaler', StandardScaler()), ('rf', RandomForestClassifier(n_estimators=120))])\n",
    "pipe.fit(X_train, y_train)                                                "
   ]
  },
  {
   "cell_type": "code",
   "execution_count": 26,
   "id": "9b0fb330",
   "metadata": {},
   "outputs": [],
   "source": [
    "y_pred = pipe.predict(X_validate)"
   ]
  },
  {
   "cell_type": "code",
   "execution_count": 27,
   "id": "95f1dd70",
   "metadata": {},
   "outputs": [
    {
     "data": {
      "text/plain": [
       "array([1, 0, 0, 1, 1, 0, 1, 1, 1, 1, 1, 0, 1, 1, 0, 0, 0, 1, 0, 0, 1, 1,\n",
       "       0, 1, 0, 1, 1, 1, 1, 1, 1, 0, 0, 0, 1, 0, 0, 0, 0, 1, 1, 0, 1, 0,\n",
       "       1, 1, 1, 1, 1, 1, 1, 0, 0, 1, 0, 1, 0, 0, 0, 0, 0, 1, 0, 1, 0, 1,\n",
       "       1, 1, 1, 0, 0, 1, 1, 0, 1, 1, 0, 0, 0, 0, 1, 0, 0, 1, 0, 1, 0, 1,\n",
       "       0, 0, 0, 0, 1, 1, 1, 1, 1, 1, 1, 1, 1, 1, 0, 0, 0, 1, 0, 0, 1, 0,\n",
       "       1, 1, 0, 0, 0, 0, 0, 1, 0, 1, 1, 0, 1, 1, 1, 1, 1, 0, 1, 0, 0, 1,\n",
       "       0, 0, 0, 0, 0, 0, 1, 1, 0, 1, 0, 1, 0, 1, 0, 0, 0, 0, 1, 0, 1, 0],\n",
       "      dtype=int64)"
      ]
     },
     "execution_count": 27,
     "metadata": {},
     "output_type": "execute_result"
    }
   ],
   "source": [
    "y_pred"
   ]
  },
  {
   "cell_type": "code",
   "execution_count": 28,
   "id": "2cb081bc",
   "metadata": {},
   "outputs": [
    {
     "data": {
      "text/plain": [
       "array([[76,  0],\n",
       "       [ 0, 78]], dtype=int64)"
      ]
     },
     "execution_count": 28,
     "metadata": {},
     "output_type": "execute_result"
    }
   ],
   "source": [
    "confusion_matrix(y_validate,y_pred)"
   ]
  },
  {
   "cell_type": "code",
   "execution_count": 29,
   "id": "88ea8626",
   "metadata": {},
   "outputs": [
    {
     "name": "stdout",
     "output_type": "stream",
     "text": [
      "              precision    recall  f1-score   support\n",
      "\n",
      "           0       1.00      1.00      1.00        76\n",
      "           1       1.00      1.00      1.00        78\n",
      "\n",
      "    accuracy                           1.00       154\n",
      "   macro avg       1.00      1.00      1.00       154\n",
      "weighted avg       1.00      1.00      1.00       154\n",
      "\n",
      "[[76  0]\n",
      " [ 0 78]]\n"
     ]
    }
   ],
   "source": [
    "model = RandomForestClassifier(n_estimators=120)\n",
    "model.fit(X_train_scaled,y_train)\n",
    "prob = model.predict_proba(X_validate_scaled)[:,1]\n",
    "\n",
    "y_pred = np.where(prob >=0.4,1,0) # Choosing custom thresold\n",
    "\n",
    "print(classification_report(y_validate,y_pred))\n",
    "print(confusion_matrix(y_validate,y_pred))"
   ]
  },
  {
   "cell_type": "code",
   "execution_count": 17,
   "id": "a47a8b1e",
   "metadata": {},
   "outputs": [
    {
     "data": {
      "text/plain": [
       "RandomForestClassifier()"
      ]
     },
     "execution_count": 17,
     "metadata": {},
     "output_type": "execute_result"
    }
   ],
   "source": [
    "from joblib import dump\n",
    "df = pd.read_csv('Converted_data_set')\n",
    "X = df.drop('target',axis=1)\n",
    "y = df['target']\n",
    "\n",
    "scaler = StandardScaler()\n",
    "\n",
    "X_scaled = scaler.fit_transform(X)\n",
    "\n",
    "model = RandomForestClassifier()\n",
    "model.fit(X_scaled,y)"
   ]
  },
  {
   "cell_type": "code",
   "execution_count": 18,
   "id": "37e0820d",
   "metadata": {},
   "outputs": [
    {
     "data": {
      "text/plain": [
       "['featureScaler.pkl']"
      ]
     },
     "execution_count": 18,
     "metadata": {},
     "output_type": "execute_result"
    }
   ],
   "source": [
    "dump(scaler,'featureScaler.pkl')"
   ]
  },
  {
   "cell_type": "code",
   "execution_count": 19,
   "id": "7922c07e",
   "metadata": {},
   "outputs": [
    {
     "data": {
      "text/plain": [
       "['HeartDiseasePredictor.pkl']"
      ]
     },
     "execution_count": 19,
     "metadata": {},
     "output_type": "execute_result"
    }
   ],
   "source": [
    "dump(model,'HeartDiseasePredictor.pkl')"
   ]
  },
  {
   "cell_type": "markdown",
   "id": "70ca2490",
   "metadata": {},
   "source": [
    "# Resut Saving In Json "
   ]
  },
  {
   "cell_type": "code",
   "execution_count": 48,
   "id": "21495b56",
   "metadata": {},
   "outputs": [],
   "source": [
    "results = {}\n",
    "\n",
    "y_pred = pipe.predict(X_validate)\n",
    "\n",
    "results['Confusion_Matrix'] = str(confusion_matrix(y_validate,y_pred))\n",
    "results['Precision'] = str(precision_score(y_validate,y_pred))\n",
    "results['Recall'] = str(recall_score(y_validate,y_pred))\n",
    "results['F1_score'] = str(f1_score(y_validate,y_pred))"
   ]
  },
  {
   "cell_type": "code",
   "execution_count": 51,
   "id": "a009d033",
   "metadata": {},
   "outputs": [
    {
     "data": {
      "text/plain": [
       "{'Confusion_Matrix': '[[76  0]\\n [ 0 78]]',\n",
       " 'Precision': '1.0',\n",
       " 'Recall': '1.0',\n",
       " 'F1_score': '1.0'}"
      ]
     },
     "execution_count": 51,
     "metadata": {},
     "output_type": "execute_result"
    }
   ],
   "source": [
    "results"
   ]
  },
  {
   "cell_type": "code",
   "execution_count": null,
   "id": "0674819e",
   "metadata": {},
   "outputs": [],
   "source": [
    "# Dict to json Conversion "
   ]
  },
  {
   "cell_type": "code",
   "execution_count": 49,
   "id": "131cbd9d",
   "metadata": {},
   "outputs": [],
   "source": [
    "import json"
   ]
  },
  {
   "cell_type": "code",
   "execution_count": 53,
   "id": "137bd90d",
   "metadata": {},
   "outputs": [],
   "source": [
    "json_data = json.dumps(results)"
   ]
  },
  {
   "cell_type": "code",
   "execution_count": 55,
   "id": "0b5483b8",
   "metadata": {},
   "outputs": [
    {
     "data": {
      "text/plain": [
       "'{\"Confusion_Matrix\": \"[[76  0]\\\\n [ 0 78]]\", \"Precision\": \"1.0\", \"Recall\": \"1.0\", \"F1_score\": \"1.0\"}'"
      ]
     },
     "execution_count": 55,
     "metadata": {},
     "output_type": "execute_result"
    }
   ],
   "source": [
    "json_data"
   ]
  },
  {
   "cell_type": "code",
   "execution_count": null,
   "id": "06f68b3d",
   "metadata": {},
   "outputs": [],
   "source": [
    "# json to dict "
   ]
  },
  {
   "cell_type": "code",
   "execution_count": 56,
   "id": "92a14e41",
   "metadata": {},
   "outputs": [
    {
     "data": {
      "text/plain": [
       "{'Confusion_Matrix': '[[76  0]\\n [ 0 78]]',\n",
       " 'Precision': '1.0',\n",
       " 'Recall': '1.0',\n",
       " 'F1_score': '1.0'}"
      ]
     },
     "execution_count": 56,
     "metadata": {},
     "output_type": "execute_result"
    }
   ],
   "source": [
    "json.loads(json_data)"
   ]
  },
  {
   "cell_type": "code",
   "execution_count": null,
   "id": "fef761fa",
   "metadata": {},
   "outputs": [],
   "source": [
    "# dump json in pickle "
   ]
  },
  {
   "cell_type": "code",
   "execution_count": 57,
   "id": "ae8e86ec",
   "metadata": {},
   "outputs": [
    {
     "data": {
      "text/plain": [
       "['Model_results']"
      ]
     },
     "execution_count": 57,
     "metadata": {},
     "output_type": "execute_result"
    }
   ],
   "source": [
    "dump(json_data,'Model_results')"
   ]
  },
  {
   "cell_type": "code",
   "execution_count": 59,
   "id": "e1ffdd0a",
   "metadata": {},
   "outputs": [],
   "source": [
    "# load json from pickle"
   ]
  },
  {
   "cell_type": "code",
   "execution_count": 58,
   "id": "2a02bf81",
   "metadata": {},
   "outputs": [
    {
     "data": {
      "text/plain": [
       "'{\"Confusion_Matrix\": \"[[76  0]\\\\n [ 0 78]]\", \"Precision\": \"1.0\", \"Recall\": \"1.0\", \"F1_score\": \"1.0\"}'"
      ]
     },
     "execution_count": 58,
     "metadata": {},
     "output_type": "execute_result"
    }
   ],
   "source": [
    "load('Model_results')"
   ]
  },
  {
   "cell_type": "code",
   "execution_count": null,
   "id": "f161e3e0",
   "metadata": {},
   "outputs": [],
   "source": [
    "{'Logistic Regression':LogisticRegression(),\n",
    " 'SVC':SVC(),\n",
    " 'KNeighborsClassifier':KNeighborsClassifier(1),\n",
    " 'DecisionTreeClassifier':DecisionTreeClassifier(),\n",
    " 'AdaBoostClassifier':AdaBoostClassifier(),\n",
    " 'GradientBoostClassifier':GradientBoostingClassifier()\n",
    "}"
   ]
  }
 ],
 "metadata": {
  "kernelspec": {
   "display_name": "Python 3",
   "language": "python",
   "name": "python3"
  },
  "language_info": {
   "codemirror_mode": {
    "name": "ipython",
    "version": 3
   },
   "file_extension": ".py",
   "mimetype": "text/x-python",
   "name": "python",
   "nbconvert_exporter": "python",
   "pygments_lexer": "ipython3",
   "version": "3.6.10"
  }
 },
 "nbformat": 4,
 "nbformat_minor": 5
}
